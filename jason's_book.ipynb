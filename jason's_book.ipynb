{
 "cells": [
  {
   "cell_type": "code",
   "execution_count": 1,
   "id": "f7799738-bd29-46b0-9d59-b1899ac3eb1e",
   "metadata": {},
   "outputs": [],
   "source": [
    "#testing"
   ]
  },
  {
   "cell_type": "code",
   "execution_count": 2,
   "id": "14b677b4-4040-433d-a593-d86a74cdf120",
   "metadata": {},
   "outputs": [],
   "source": [
    "#1234"
   ]
  },
  {
   "cell_type": "code",
   "execution_count": null,
   "id": "fde7eddf-c21b-40a3-b3d5-dc0765dee739",
   "metadata": {},
   "outputs": [],
   "source": []
  }
 ],
 "metadata": {
  "kernelspec": {
   "display_name": "R",
   "language": "R",
   "name": "ir"
  },
  "language_info": {
   "codemirror_mode": "r",
   "file_extension": ".r",
   "mimetype": "text/x-r-source",
   "name": "R",
   "pygments_lexer": "r",
   "version": "4.1.3"
  }
 },
 "nbformat": 4,
 "nbformat_minor": 5
}
