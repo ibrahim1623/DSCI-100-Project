{
 "cells": [
  {
   "cell_type": "markdown",
   "id": "1659493a-5813-4a32-884c-bb76dba8a0ed",
   "metadata": {},
   "source": [
    "# Age, Cholesterol, Blood Pressure, and Chest Pain in Determining Heart Disease"
   ]
  },
  {
   "cell_type": "markdown",
   "id": "734fff2c-700c-475c-a355-407bc8e3883c",
   "metadata": {},
   "source": [
    "Andy Hong, Celine Li, Jason Shi, Ibrahim Saeed"
   ]
  },
  {
   "cell_type": "markdown",
   "id": "2440814d-6905-4afe-b2da-1d06dd4100f8",
   "metadata": {},
   "source": [
    "# Introduction\n",
    "\n",
    "Heart disease is the one of the leading causes of death for people in Canada, with 1 in 12 Canadian adults living with diagnosed heart disease. There are a number of factors that contribute to heart disease, the most notable ones being high blood pressure, high cholesterol levels, and age. Symptoms can vary between the type of heart disease and sex, but the most common symptoms include chest pain/tightness, shortness of breath, and feeling light headed and dizzy. Due to the commonality of heart disease, understanding the relationship between different factors can help people maintain a healthy cardiovascular system and decrease their chances of having heart problems.\n",
    "\n",
    "Using the Heart Disease dataset from the Cleveland database (Janosi et al., 2007), our goal is to accurately predict whether a patient has heart disease based on our selected predictor variables. \n",
    "This dataset includes the following columns:\n",
    "\n",
    "1. age: Age of patient \n",
    "2. sex: Gender of patient (0 = female, 1 = male)\n",
    "3. cp: Chest pain severity\n",
    "4. trestbps: Resting Blood Pressure (in mm/Hg)\n",
    "5. chol: Serum cholestoral (in mg/dl)\n",
    "6. fbs: Fasting blood sugar (0 = False, 1 = True)\n",
    "7. restecg: The Resting Electrocardiographic Results\n",
    "8. thalach: Maximum Heart Rate produced by patient\n",
    "9. exang: Whether exercise induced angina (1 = True, 0 = False)\n",
    "10. oldpeak: ST Depression Segment (induced by exercise)\n",
    "11. slope: The slope of the peak exercise ST Depression Segment (1 = upslope, 2 = flat, 3 = downslope)\n",
    "12. ca: Number of major blood vessels coloured by flourosopy (0-3)\n",
    "13. thal: Bone Tissue Value (3 = normal, 6 = fixed defect, 7 = reversable defect)\n",
    "14. num: The diagnosis of heart disease (1,2,3,4 = presence, 0 = no presence)\n",
    "\n",
    "\n",
    "For our preliminary data analysis, the variables we will be looking at are age, cholesterol level, resting blood pressure, chest pain, and num (num is the variable we need to identify whether a patient has heart disease or not). This is because our background knowledge around heart disease as well as a study done by Vanderpump, (Vanderpump et al., 2020) on risk factors for cardiovascular disease has determined that these variables are most relevant compared to the other variables when it comes to determining whether a patient has heart disease. However, we will still use the Forward Selection Method to determine the best predictor variables. But for the Forward Selection method, we will not be including the variables sex, thal, and ca becuase we cannot find how these variables are related to heart disease and believe adding these variables may harm the results provided by Forward Selection, as they seem to be irrelavant. \n",
    "\n",
    "Finally, after we determine the best combination of predcitor variables, we can use them to build our classifier that can predict whether or not a patient has heart disease by using the K-Nearest Neighbours classifier algorithmn. To assess the accuracy of our classifier, we will reserve and utilse a test dataset and then provide a discussion about our results. \n",
    "\n",
    "\n",
    "# Methods \n",
    "\n",
    " The following report will include :\n",
    " \n",
    "1.  __Preliminary Data Analysis__\n",
    "\n",
    "    - Cleaning, tidying, and manipulating data into training and testing sets using our pre-chosen predictor vairables to be used for       our K-NN Classifier\n",
    "    \n",
    "2. __Predictor Variable Selection Analysis__\n",
    "\n",
    "    - Using the Foward Selection Method to find the best set of predictor variables to create our classifier \n",
    "    \n",
    "3. __Creating our KNN Classifier__\n",
    "\n",
    "    - Performing Cross Validation analysis with our new chosen predictors, tuning a model and recipe and choosing a the best K value       to be used for the final classifier \n",
    "    \n",
    "4. __Predictions on Test Data using our Model__\n",
    "\n",
    "    - Use our model to predict on testing data in order to evaluate its accuracy and effectiveness for real-world application\n",
    "\n",
    "# Results \n",
    "\n",
    "5. __Discussion__\n",
    "   \n",
    "    - Discuss the steps we made and the results produced by the classifier and conclude our project\n",
    "    "
   ]
  },
  {
   "cell_type": "markdown",
   "id": "8007143a-f7ed-4908-8726-45e9a6aa96bc",
   "metadata": {},
   "source": [
    "# Preliminary Data Analysis"
   ]
  },
  {
   "cell_type": "code",
   "execution_count": 1,
   "id": "860bbab2-ac56-4ca7-90f8-2735379a2e70",
   "metadata": {},
   "outputs": [
    {
     "name": "stderr",
     "output_type": "stream",
     "text": [
      "── \u001b[1mAttaching packages\u001b[22m ─────────────────────────────────────── tidyverse 1.3.1 ──\n",
      "\n",
      "\u001b[32m✔\u001b[39m \u001b[34mggplot2\u001b[39m 3.3.6     \u001b[32m✔\u001b[39m \u001b[34mpurrr  \u001b[39m 0.3.4\n",
      "\u001b[32m✔\u001b[39m \u001b[34mtibble \u001b[39m 3.1.7     \u001b[32m✔\u001b[39m \u001b[34mdplyr  \u001b[39m 1.0.9\n",
      "\u001b[32m✔\u001b[39m \u001b[34mtidyr  \u001b[39m 1.2.0     \u001b[32m✔\u001b[39m \u001b[34mstringr\u001b[39m 1.4.0\n",
      "\u001b[32m✔\u001b[39m \u001b[34mreadr  \u001b[39m 2.1.2     \u001b[32m✔\u001b[39m \u001b[34mforcats\u001b[39m 0.5.1\n",
      "\n",
      "── \u001b[1mConflicts\u001b[22m ────────────────────────────────────────── tidyverse_conflicts() ──\n",
      "\u001b[31m✖\u001b[39m \u001b[34mdplyr\u001b[39m::\u001b[32mfilter()\u001b[39m masks \u001b[34mstats\u001b[39m::filter()\n",
      "\u001b[31m✖\u001b[39m \u001b[34mdplyr\u001b[39m::\u001b[32mlag()\u001b[39m    masks \u001b[34mstats\u001b[39m::lag()\n",
      "\n",
      "── \u001b[1mAttaching packages\u001b[22m ────────────────────────────────────── tidymodels 1.0.0 ──\n",
      "\n",
      "\u001b[32m✔\u001b[39m \u001b[34mbroom       \u001b[39m 1.0.0     \u001b[32m✔\u001b[39m \u001b[34mrsample     \u001b[39m 1.0.0\n",
      "\u001b[32m✔\u001b[39m \u001b[34mdials       \u001b[39m 1.0.0     \u001b[32m✔\u001b[39m \u001b[34mtune        \u001b[39m 1.0.0\n",
      "\u001b[32m✔\u001b[39m \u001b[34minfer       \u001b[39m 1.0.2     \u001b[32m✔\u001b[39m \u001b[34mworkflows   \u001b[39m 1.0.0\n",
      "\u001b[32m✔\u001b[39m \u001b[34mmodeldata   \u001b[39m 1.0.0     \u001b[32m✔\u001b[39m \u001b[34mworkflowsets\u001b[39m 1.0.0\n",
      "\u001b[32m✔\u001b[39m \u001b[34mparsnip     \u001b[39m 1.0.0     \u001b[32m✔\u001b[39m \u001b[34myardstick   \u001b[39m 1.0.0\n",
      "\u001b[32m✔\u001b[39m \u001b[34mrecipes     \u001b[39m 1.0.1     \n",
      "\n",
      "── \u001b[1mConflicts\u001b[22m ───────────────────────────────────────── tidymodels_conflicts() ──\n",
      "\u001b[31m✖\u001b[39m \u001b[34mscales\u001b[39m::\u001b[32mdiscard()\u001b[39m masks \u001b[34mpurrr\u001b[39m::discard()\n",
      "\u001b[31m✖\u001b[39m \u001b[34mdplyr\u001b[39m::\u001b[32mfilter()\u001b[39m   masks \u001b[34mstats\u001b[39m::filter()\n",
      "\u001b[31m✖\u001b[39m \u001b[34mrecipes\u001b[39m::\u001b[32mfixed()\u001b[39m  masks \u001b[34mstringr\u001b[39m::fixed()\n",
      "\u001b[31m✖\u001b[39m \u001b[34mdplyr\u001b[39m::\u001b[32mlag()\u001b[39m      masks \u001b[34mstats\u001b[39m::lag()\n",
      "\u001b[31m✖\u001b[39m \u001b[34myardstick\u001b[39m::\u001b[32mspec()\u001b[39m masks \u001b[34mreadr\u001b[39m::spec()\n",
      "\u001b[31m✖\u001b[39m \u001b[34mrecipes\u001b[39m::\u001b[32mstep()\u001b[39m   masks \u001b[34mstats\u001b[39m::step()\n",
      "\u001b[34m•\u001b[39m Search for functions across packages at \u001b[32mhttps://www.tidymodels.org/find/\u001b[39m\n",
      "\n"
     ]
    }
   ],
   "source": [
    "# Here we load the packages necessary to run our functions\n",
    "library(tidyverse)\n",
    "library(repr)\n",
    "library(tidymodels)\n",
    "library(cowplot)\n",
    "\n",
    "options(repr.matrix.max.rows = 6)"
   ]
  },
  {
   "cell_type": "markdown",
   "id": "2535d431-ba95-4b76-9ddf-b672d1577f6c",
   "metadata": {},
   "source": [
    "__Importing Data from the Web__\n",
    "\n",
    "In the code below, we can prove that the dataset can be read from the web. We will be naming the dataset `heart_data`. "
   ]
  },
  {
   "cell_type": "code",
   "execution_count": 2,
   "id": "8abd7357-e477-45ff-9aca-84479bf05330",
   "metadata": {},
   "outputs": [
    {
     "name": "stderr",
     "output_type": "stream",
     "text": [
      "\u001b[1mRows: \u001b[22m\u001b[34m303\u001b[39m \u001b[1mColumns: \u001b[22m\u001b[34m14\u001b[39m\n",
      "\u001b[36m──\u001b[39m \u001b[1mColumn specification\u001b[22m \u001b[36m────────────────────────────────────────────────────────\u001b[39m\n",
      "\u001b[1mDelimiter:\u001b[22m \",\"\n",
      "\u001b[31mchr\u001b[39m  (2): X12, X13\n",
      "\u001b[32mdbl\u001b[39m (12): X1, X2, X3, X4, X5, X6, X7, X8, X9, X10, X11, X14\n",
      "\n",
      "\u001b[36mℹ\u001b[39m Use `spec()` to retrieve the full column specification for this data.\n",
      "\u001b[36mℹ\u001b[39m Specify the column types or set `show_col_types = FALSE` to quiet this message.\n"
     ]
    },
    {
     "data": {
      "text/html": [
       "<table class=\"dataframe\">\n",
       "<caption>A spec_tbl_df: 303 × 14</caption>\n",
       "<thead>\n",
       "\t<tr><th scope=col>X1</th><th scope=col>X2</th><th scope=col>X3</th><th scope=col>X4</th><th scope=col>X5</th><th scope=col>X6</th><th scope=col>X7</th><th scope=col>X8</th><th scope=col>X9</th><th scope=col>X10</th><th scope=col>X11</th><th scope=col>X12</th><th scope=col>X13</th><th scope=col>X14</th></tr>\n",
       "\t<tr><th scope=col>&lt;dbl&gt;</th><th scope=col>&lt;dbl&gt;</th><th scope=col>&lt;dbl&gt;</th><th scope=col>&lt;dbl&gt;</th><th scope=col>&lt;dbl&gt;</th><th scope=col>&lt;dbl&gt;</th><th scope=col>&lt;dbl&gt;</th><th scope=col>&lt;dbl&gt;</th><th scope=col>&lt;dbl&gt;</th><th scope=col>&lt;dbl&gt;</th><th scope=col>&lt;dbl&gt;</th><th scope=col>&lt;chr&gt;</th><th scope=col>&lt;chr&gt;</th><th scope=col>&lt;dbl&gt;</th></tr>\n",
       "</thead>\n",
       "<tbody>\n",
       "\t<tr><td>63</td><td>1</td><td>1</td><td>145</td><td>233</td><td>1</td><td>2</td><td>150</td><td>0</td><td>2.3</td><td>3</td><td>0.0</td><td>6.0</td><td>0</td></tr>\n",
       "\t<tr><td>67</td><td>1</td><td>4</td><td>160</td><td>286</td><td>0</td><td>2</td><td>108</td><td>1</td><td>1.5</td><td>2</td><td>3.0</td><td>3.0</td><td>2</td></tr>\n",
       "\t<tr><td>67</td><td>1</td><td>4</td><td>120</td><td>229</td><td>0</td><td>2</td><td>129</td><td>1</td><td>2.6</td><td>2</td><td>2.0</td><td>7.0</td><td>1</td></tr>\n",
       "\t<tr><td>⋮</td><td>⋮</td><td>⋮</td><td>⋮</td><td>⋮</td><td>⋮</td><td>⋮</td><td>⋮</td><td>⋮</td><td>⋮</td><td>⋮</td><td>⋮</td><td>⋮</td><td>⋮</td></tr>\n",
       "\t<tr><td>57</td><td>1</td><td>4</td><td>130</td><td>131</td><td>0</td><td>0</td><td>115</td><td>1</td><td>1.2</td><td>2</td><td>1.0</td><td>7.0</td><td>3</td></tr>\n",
       "\t<tr><td>57</td><td>0</td><td>2</td><td>130</td><td>236</td><td>0</td><td>2</td><td>174</td><td>0</td><td>0.0</td><td>2</td><td>1.0</td><td>3.0</td><td>1</td></tr>\n",
       "\t<tr><td>38</td><td>1</td><td>3</td><td>138</td><td>175</td><td>0</td><td>0</td><td>173</td><td>0</td><td>0.0</td><td>1</td><td>?  </td><td>3.0</td><td>0</td></tr>\n",
       "</tbody>\n",
       "</table>\n"
      ],
      "text/latex": [
       "A spec\\_tbl\\_df: 303 × 14\n",
       "\\begin{tabular}{llllllllllllll}\n",
       " X1 & X2 & X3 & X4 & X5 & X6 & X7 & X8 & X9 & X10 & X11 & X12 & X13 & X14\\\\\n",
       " <dbl> & <dbl> & <dbl> & <dbl> & <dbl> & <dbl> & <dbl> & <dbl> & <dbl> & <dbl> & <dbl> & <chr> & <chr> & <dbl>\\\\\n",
       "\\hline\n",
       "\t 63 & 1 & 1 & 145 & 233 & 1 & 2 & 150 & 0 & 2.3 & 3 & 0.0 & 6.0 & 0\\\\\n",
       "\t 67 & 1 & 4 & 160 & 286 & 0 & 2 & 108 & 1 & 1.5 & 2 & 3.0 & 3.0 & 2\\\\\n",
       "\t 67 & 1 & 4 & 120 & 229 & 0 & 2 & 129 & 1 & 2.6 & 2 & 2.0 & 7.0 & 1\\\\\n",
       "\t ⋮ & ⋮ & ⋮ & ⋮ & ⋮ & ⋮ & ⋮ & ⋮ & ⋮ & ⋮ & ⋮ & ⋮ & ⋮ & ⋮\\\\\n",
       "\t 57 & 1 & 4 & 130 & 131 & 0 & 0 & 115 & 1 & 1.2 & 2 & 1.0 & 7.0 & 3\\\\\n",
       "\t 57 & 0 & 2 & 130 & 236 & 0 & 2 & 174 & 0 & 0.0 & 2 & 1.0 & 3.0 & 1\\\\\n",
       "\t 38 & 1 & 3 & 138 & 175 & 0 & 0 & 173 & 0 & 0.0 & 1 & ?   & 3.0 & 0\\\\\n",
       "\\end{tabular}\n"
      ],
      "text/markdown": [
       "\n",
       "A spec_tbl_df: 303 × 14\n",
       "\n",
       "| X1 &lt;dbl&gt; | X2 &lt;dbl&gt; | X3 &lt;dbl&gt; | X4 &lt;dbl&gt; | X5 &lt;dbl&gt; | X6 &lt;dbl&gt; | X7 &lt;dbl&gt; | X8 &lt;dbl&gt; | X9 &lt;dbl&gt; | X10 &lt;dbl&gt; | X11 &lt;dbl&gt; | X12 &lt;chr&gt; | X13 &lt;chr&gt; | X14 &lt;dbl&gt; |\n",
       "|---|---|---|---|---|---|---|---|---|---|---|---|---|---|\n",
       "| 63 | 1 | 1 | 145 | 233 | 1 | 2 | 150 | 0 | 2.3 | 3 | 0.0 | 6.0 | 0 |\n",
       "| 67 | 1 | 4 | 160 | 286 | 0 | 2 | 108 | 1 | 1.5 | 2 | 3.0 | 3.0 | 2 |\n",
       "| 67 | 1 | 4 | 120 | 229 | 0 | 2 | 129 | 1 | 2.6 | 2 | 2.0 | 7.0 | 1 |\n",
       "| ⋮ | ⋮ | ⋮ | ⋮ | ⋮ | ⋮ | ⋮ | ⋮ | ⋮ | ⋮ | ⋮ | ⋮ | ⋮ | ⋮ |\n",
       "| 57 | 1 | 4 | 130 | 131 | 0 | 0 | 115 | 1 | 1.2 | 2 | 1.0 | 7.0 | 3 |\n",
       "| 57 | 0 | 2 | 130 | 236 | 0 | 2 | 174 | 0 | 0.0 | 2 | 1.0 | 3.0 | 1 |\n",
       "| 38 | 1 | 3 | 138 | 175 | 0 | 0 | 173 | 0 | 0.0 | 1 | ?   | 3.0 | 0 |\n",
       "\n"
      ],
      "text/plain": [
       "    X1 X2 X3 X4  X5  X6 X7 X8  X9 X10 X11 X12 X13 X14\n",
       "1   63 1  1  145 233 1  2  150 0  2.3 3   0.0 6.0 0  \n",
       "2   67 1  4  160 286 0  2  108 1  1.5 2   3.0 3.0 2  \n",
       "3   67 1  4  120 229 0  2  129 1  2.6 2   2.0 7.0 1  \n",
       "⋮   ⋮  ⋮  ⋮  ⋮   ⋮   ⋮  ⋮  ⋮   ⋮  ⋮   ⋮   ⋮   ⋮   ⋮  \n",
       "301 57 1  4  130 131 0  0  115 1  1.2 2   1.0 7.0 3  \n",
       "302 57 0  2  130 236 0  2  174 0  0.0 2   1.0 3.0 1  \n",
       "303 38 1  3  138 175 0  0  173 0  0.0 1   ?   3.0 0  "
      ]
     },
     "metadata": {},
     "output_type": "display_data"
    }
   ],
   "source": [
    "heart_data <- read_csv(\"https://archive.ics.uci.edu/ml/machine-learning-databases/heart-disease/processed.cleveland.data\", \n",
    "                       col_names = FALSE)\n",
    "heart_data"
   ]
  },
  {
   "cell_type": "markdown",
   "id": "60bd69b2-afaf-4c76-ac08-2ef7fa4af9ca",
   "metadata": {},
   "source": [
    "_Figure 1: Dataset without column names_\n",
    "\n",
    "__Cleaning and Tidying Data__\n",
    "\n",
    "We notice that there are no column names for the data set thus we will need to add column names based on what each column represents."
   ]
  },
  {
   "cell_type": "code",
   "execution_count": 3,
   "id": "95b93033-b3fd-4c8e-9134-3c4d7f6e5cac",
   "metadata": {},
   "outputs": [
    {
     "data": {
      "text/html": [
       "<table class=\"dataframe\">\n",
       "<caption>A spec_tbl_df: 303 × 14</caption>\n",
       "<thead>\n",
       "\t<tr><th scope=col>age</th><th scope=col>sex</th><th scope=col>cp</th><th scope=col>trestbps</th><th scope=col>chol</th><th scope=col>fbs</th><th scope=col>restecg</th><th scope=col>thalach</th><th scope=col>exang</th><th scope=col>oldpeak</th><th scope=col>slope</th><th scope=col>ca</th><th scope=col>thal</th><th scope=col>num</th></tr>\n",
       "\t<tr><th scope=col>&lt;dbl&gt;</th><th scope=col>&lt;dbl&gt;</th><th scope=col>&lt;dbl&gt;</th><th scope=col>&lt;dbl&gt;</th><th scope=col>&lt;dbl&gt;</th><th scope=col>&lt;dbl&gt;</th><th scope=col>&lt;dbl&gt;</th><th scope=col>&lt;dbl&gt;</th><th scope=col>&lt;dbl&gt;</th><th scope=col>&lt;dbl&gt;</th><th scope=col>&lt;dbl&gt;</th><th scope=col>&lt;chr&gt;</th><th scope=col>&lt;chr&gt;</th><th scope=col>&lt;dbl&gt;</th></tr>\n",
       "</thead>\n",
       "<tbody>\n",
       "\t<tr><td>63</td><td>1</td><td>1</td><td>145</td><td>233</td><td>1</td><td>2</td><td>150</td><td>0</td><td>2.3</td><td>3</td><td>0.0</td><td>6.0</td><td>0</td></tr>\n",
       "\t<tr><td>67</td><td>1</td><td>4</td><td>160</td><td>286</td><td>0</td><td>2</td><td>108</td><td>1</td><td>1.5</td><td>2</td><td>3.0</td><td>3.0</td><td>2</td></tr>\n",
       "\t<tr><td>67</td><td>1</td><td>4</td><td>120</td><td>229</td><td>0</td><td>2</td><td>129</td><td>1</td><td>2.6</td><td>2</td><td>2.0</td><td>7.0</td><td>1</td></tr>\n",
       "\t<tr><td>⋮</td><td>⋮</td><td>⋮</td><td>⋮</td><td>⋮</td><td>⋮</td><td>⋮</td><td>⋮</td><td>⋮</td><td>⋮</td><td>⋮</td><td>⋮</td><td>⋮</td><td>⋮</td></tr>\n",
       "\t<tr><td>57</td><td>1</td><td>4</td><td>130</td><td>131</td><td>0</td><td>0</td><td>115</td><td>1</td><td>1.2</td><td>2</td><td>1.0</td><td>7.0</td><td>3</td></tr>\n",
       "\t<tr><td>57</td><td>0</td><td>2</td><td>130</td><td>236</td><td>0</td><td>2</td><td>174</td><td>0</td><td>0.0</td><td>2</td><td>1.0</td><td>3.0</td><td>1</td></tr>\n",
       "\t<tr><td>38</td><td>1</td><td>3</td><td>138</td><td>175</td><td>0</td><td>0</td><td>173</td><td>0</td><td>0.0</td><td>1</td><td>?  </td><td>3.0</td><td>0</td></tr>\n",
       "</tbody>\n",
       "</table>\n"
      ],
      "text/latex": [
       "A spec\\_tbl\\_df: 303 × 14\n",
       "\\begin{tabular}{llllllllllllll}\n",
       " age & sex & cp & trestbps & chol & fbs & restecg & thalach & exang & oldpeak & slope & ca & thal & num\\\\\n",
       " <dbl> & <dbl> & <dbl> & <dbl> & <dbl> & <dbl> & <dbl> & <dbl> & <dbl> & <dbl> & <dbl> & <chr> & <chr> & <dbl>\\\\\n",
       "\\hline\n",
       "\t 63 & 1 & 1 & 145 & 233 & 1 & 2 & 150 & 0 & 2.3 & 3 & 0.0 & 6.0 & 0\\\\\n",
       "\t 67 & 1 & 4 & 160 & 286 & 0 & 2 & 108 & 1 & 1.5 & 2 & 3.0 & 3.0 & 2\\\\\n",
       "\t 67 & 1 & 4 & 120 & 229 & 0 & 2 & 129 & 1 & 2.6 & 2 & 2.0 & 7.0 & 1\\\\\n",
       "\t ⋮ & ⋮ & ⋮ & ⋮ & ⋮ & ⋮ & ⋮ & ⋮ & ⋮ & ⋮ & ⋮ & ⋮ & ⋮ & ⋮\\\\\n",
       "\t 57 & 1 & 4 & 130 & 131 & 0 & 0 & 115 & 1 & 1.2 & 2 & 1.0 & 7.0 & 3\\\\\n",
       "\t 57 & 0 & 2 & 130 & 236 & 0 & 2 & 174 & 0 & 0.0 & 2 & 1.0 & 3.0 & 1\\\\\n",
       "\t 38 & 1 & 3 & 138 & 175 & 0 & 0 & 173 & 0 & 0.0 & 1 & ?   & 3.0 & 0\\\\\n",
       "\\end{tabular}\n"
      ],
      "text/markdown": [
       "\n",
       "A spec_tbl_df: 303 × 14\n",
       "\n",
       "| age &lt;dbl&gt; | sex &lt;dbl&gt; | cp &lt;dbl&gt; | trestbps &lt;dbl&gt; | chol &lt;dbl&gt; | fbs &lt;dbl&gt; | restecg &lt;dbl&gt; | thalach &lt;dbl&gt; | exang &lt;dbl&gt; | oldpeak &lt;dbl&gt; | slope &lt;dbl&gt; | ca &lt;chr&gt; | thal &lt;chr&gt; | num &lt;dbl&gt; |\n",
       "|---|---|---|---|---|---|---|---|---|---|---|---|---|---|\n",
       "| 63 | 1 | 1 | 145 | 233 | 1 | 2 | 150 | 0 | 2.3 | 3 | 0.0 | 6.0 | 0 |\n",
       "| 67 | 1 | 4 | 160 | 286 | 0 | 2 | 108 | 1 | 1.5 | 2 | 3.0 | 3.0 | 2 |\n",
       "| 67 | 1 | 4 | 120 | 229 | 0 | 2 | 129 | 1 | 2.6 | 2 | 2.0 | 7.0 | 1 |\n",
       "| ⋮ | ⋮ | ⋮ | ⋮ | ⋮ | ⋮ | ⋮ | ⋮ | ⋮ | ⋮ | ⋮ | ⋮ | ⋮ | ⋮ |\n",
       "| 57 | 1 | 4 | 130 | 131 | 0 | 0 | 115 | 1 | 1.2 | 2 | 1.0 | 7.0 | 3 |\n",
       "| 57 | 0 | 2 | 130 | 236 | 0 | 2 | 174 | 0 | 0.0 | 2 | 1.0 | 3.0 | 1 |\n",
       "| 38 | 1 | 3 | 138 | 175 | 0 | 0 | 173 | 0 | 0.0 | 1 | ?   | 3.0 | 0 |\n",
       "\n"
      ],
      "text/plain": [
       "    age sex cp trestbps chol fbs restecg thalach exang oldpeak slope ca  thal\n",
       "1   63  1   1  145      233  1   2       150     0     2.3     3     0.0 6.0 \n",
       "2   67  1   4  160      286  0   2       108     1     1.5     2     3.0 3.0 \n",
       "3   67  1   4  120      229  0   2       129     1     2.6     2     2.0 7.0 \n",
       "⋮   ⋮   ⋮   ⋮  ⋮        ⋮    ⋮   ⋮       ⋮       ⋮     ⋮       ⋮     ⋮   ⋮   \n",
       "301 57  1   4  130      131  0   0       115     1     1.2     2     1.0 7.0 \n",
       "302 57  0   2  130      236  0   2       174     0     0.0     2     1.0 3.0 \n",
       "303 38  1   3  138      175  0   0       173     0     0.0     1     ?   3.0 \n",
       "    num\n",
       "1   0  \n",
       "2   2  \n",
       "3   1  \n",
       "⋮   ⋮  \n",
       "301 3  \n",
       "302 1  \n",
       "303 0  "
      ]
     },
     "metadata": {},
     "output_type": "display_data"
    }
   ],
   "source": [
    "names <- c(\"age\",\"sex\",\"cp\",\"trestbps\",\n",
    "           \"chol\",\"fbs\",\"restecg\",\"thalach\",\n",
    "           \"exang\",\"oldpeak\",\"slope\",\n",
    "           \"ca\",\"thal\",\"num\")\n",
    "\n",
    "colnames(heart_data) <- names\n",
    "heart_data"
   ]
  },
  {
   "cell_type": "markdown",
   "id": "bce5c23d-28e8-4ed6-be15-f7ab7e433c2c",
   "metadata": {},
   "source": [
    "_Figure 2: Dataset with column names added_\n",
    "\n",
    "Let's now select for the columns we are interested in and tidy it up. Note that the `num` column tells us the prescence of heart disease within a patient, with a value of 0 meaning no heart disease present and a value of 1 meaning heart disease is present with greater values representing how significant the prescence is all the way up to the maximum value of 4. Let's transform the `num` column and make a new column called `diag` (abbreviation for diagnosis) of type factor so that values equal to 0 translate to `FALSE` which means no heart disease is present whereas any values greater than 0 gets the value `TRUE` which means heart diesease is present. "
   ]
  },
  {
   "cell_type": "code",
   "execution_count": 4,
   "id": "ba1850d2-44c2-49dc-8583-2579b193f301",
   "metadata": {},
   "outputs": [
    {
     "data": {
      "text/html": [
       "<table class=\"dataframe\">\n",
       "<caption>A tibble: 303 × 11</caption>\n",
       "<thead>\n",
       "\t<tr><th scope=col>age</th><th scope=col>cp</th><th scope=col>trestbps</th><th scope=col>chol</th><th scope=col>fbs</th><th scope=col>restecg</th><th scope=col>thalach</th><th scope=col>exang</th><th scope=col>oldpeak</th><th scope=col>slope</th><th scope=col>diag</th></tr>\n",
       "\t<tr><th scope=col>&lt;dbl&gt;</th><th scope=col>&lt;dbl&gt;</th><th scope=col>&lt;dbl&gt;</th><th scope=col>&lt;dbl&gt;</th><th scope=col>&lt;dbl&gt;</th><th scope=col>&lt;dbl&gt;</th><th scope=col>&lt;dbl&gt;</th><th scope=col>&lt;dbl&gt;</th><th scope=col>&lt;dbl&gt;</th><th scope=col>&lt;dbl&gt;</th><th scope=col>&lt;fct&gt;</th></tr>\n",
       "</thead>\n",
       "<tbody>\n",
       "\t<tr><td>63</td><td>1</td><td>145</td><td>233</td><td>1</td><td>2</td><td>150</td><td>0</td><td>2.3</td><td>3</td><td>FALSE</td></tr>\n",
       "\t<tr><td>67</td><td>4</td><td>160</td><td>286</td><td>0</td><td>2</td><td>108</td><td>1</td><td>1.5</td><td>2</td><td>TRUE </td></tr>\n",
       "\t<tr><td>67</td><td>4</td><td>120</td><td>229</td><td>0</td><td>2</td><td>129</td><td>1</td><td>2.6</td><td>2</td><td>TRUE </td></tr>\n",
       "\t<tr><td>⋮</td><td>⋮</td><td>⋮</td><td>⋮</td><td>⋮</td><td>⋮</td><td>⋮</td><td>⋮</td><td>⋮</td><td>⋮</td><td>⋮</td></tr>\n",
       "\t<tr><td>57</td><td>4</td><td>130</td><td>131</td><td>0</td><td>0</td><td>115</td><td>1</td><td>1.2</td><td>2</td><td>TRUE </td></tr>\n",
       "\t<tr><td>57</td><td>2</td><td>130</td><td>236</td><td>0</td><td>2</td><td>174</td><td>0</td><td>0.0</td><td>2</td><td>TRUE </td></tr>\n",
       "\t<tr><td>38</td><td>3</td><td>138</td><td>175</td><td>0</td><td>0</td><td>173</td><td>0</td><td>0.0</td><td>1</td><td>FALSE</td></tr>\n",
       "</tbody>\n",
       "</table>\n"
      ],
      "text/latex": [
       "A tibble: 303 × 11\n",
       "\\begin{tabular}{lllllllllll}\n",
       " age & cp & trestbps & chol & fbs & restecg & thalach & exang & oldpeak & slope & diag\\\\\n",
       " <dbl> & <dbl> & <dbl> & <dbl> & <dbl> & <dbl> & <dbl> & <dbl> & <dbl> & <dbl> & <fct>\\\\\n",
       "\\hline\n",
       "\t 63 & 1 & 145 & 233 & 1 & 2 & 150 & 0 & 2.3 & 3 & FALSE\\\\\n",
       "\t 67 & 4 & 160 & 286 & 0 & 2 & 108 & 1 & 1.5 & 2 & TRUE \\\\\n",
       "\t 67 & 4 & 120 & 229 & 0 & 2 & 129 & 1 & 2.6 & 2 & TRUE \\\\\n",
       "\t ⋮ & ⋮ & ⋮ & ⋮ & ⋮ & ⋮ & ⋮ & ⋮ & ⋮ & ⋮ & ⋮\\\\\n",
       "\t 57 & 4 & 130 & 131 & 0 & 0 & 115 & 1 & 1.2 & 2 & TRUE \\\\\n",
       "\t 57 & 2 & 130 & 236 & 0 & 2 & 174 & 0 & 0.0 & 2 & TRUE \\\\\n",
       "\t 38 & 3 & 138 & 175 & 0 & 0 & 173 & 0 & 0.0 & 1 & FALSE\\\\\n",
       "\\end{tabular}\n"
      ],
      "text/markdown": [
       "\n",
       "A tibble: 303 × 11\n",
       "\n",
       "| age &lt;dbl&gt; | cp &lt;dbl&gt; | trestbps &lt;dbl&gt; | chol &lt;dbl&gt; | fbs &lt;dbl&gt; | restecg &lt;dbl&gt; | thalach &lt;dbl&gt; | exang &lt;dbl&gt; | oldpeak &lt;dbl&gt; | slope &lt;dbl&gt; | diag &lt;fct&gt; |\n",
       "|---|---|---|---|---|---|---|---|---|---|---|\n",
       "| 63 | 1 | 145 | 233 | 1 | 2 | 150 | 0 | 2.3 | 3 | FALSE |\n",
       "| 67 | 4 | 160 | 286 | 0 | 2 | 108 | 1 | 1.5 | 2 | TRUE  |\n",
       "| 67 | 4 | 120 | 229 | 0 | 2 | 129 | 1 | 2.6 | 2 | TRUE  |\n",
       "| ⋮ | ⋮ | ⋮ | ⋮ | ⋮ | ⋮ | ⋮ | ⋮ | ⋮ | ⋮ | ⋮ |\n",
       "| 57 | 4 | 130 | 131 | 0 | 0 | 115 | 1 | 1.2 | 2 | TRUE  |\n",
       "| 57 | 2 | 130 | 236 | 0 | 2 | 174 | 0 | 0.0 | 2 | TRUE  |\n",
       "| 38 | 3 | 138 | 175 | 0 | 0 | 173 | 0 | 0.0 | 1 | FALSE |\n",
       "\n"
      ],
      "text/plain": [
       "    age cp trestbps chol fbs restecg thalach exang oldpeak slope diag \n",
       "1   63  1  145      233  1   2       150     0     2.3     3     FALSE\n",
       "2   67  4  160      286  0   2       108     1     1.5     2     TRUE \n",
       "3   67  4  120      229  0   2       129     1     2.6     2     TRUE \n",
       "⋮   ⋮   ⋮  ⋮        ⋮    ⋮   ⋮       ⋮       ⋮     ⋮       ⋮     ⋮    \n",
       "301 57  4  130      131  0   0       115     1     1.2     2     TRUE \n",
       "302 57  2  130      236  0   2       174     0     0.0     2     TRUE \n",
       "303 38  3  138      175  0   0       173     0     0.0     1     FALSE"
      ]
     },
     "metadata": {},
     "output_type": "display_data"
    }
   ],
   "source": [
    "heart_clean <- heart_data |>\n",
    "                       mutate(diag = factor(ifelse(is.na(num), NA,  (num > 0)))) |>\n",
    "                       select(-num,-sex,-thal,-ca)\n",
    "heart_clean"
   ]
  },
  {
   "cell_type": "markdown",
   "id": "14da1ed6-5c1a-4e64-8f13-5d3119cb8856",
   "metadata": {},
   "source": [
    "_Figure 3: Dataset transformed and put into the tidy format_\n",
    "\n",
    "Each row is one unique obsevation and each cell only contains one value. We can see from Figure 3 that there are a total of 303 unique obserations. Now let's check to see if any missing values. To do this, we can inbed the is.na() function into the sum() function. "
   ]
  },
  {
   "cell_type": "code",
   "execution_count": 5,
   "id": "67966e5e-4a40-42ee-9856-f1337f9ce24f",
   "metadata": {},
   "outputs": [
    {
     "data": {
      "text/html": [
       "0"
      ],
      "text/latex": [
       "0"
      ],
      "text/markdown": [
       "0"
      ],
      "text/plain": [
       "[1] 0"
      ]
     },
     "metadata": {},
     "output_type": "display_data"
    }
   ],
   "source": [
    "sum(is.na(heart_clean))"
   ]
  },
  {
   "cell_type": "markdown",
   "id": "c834cdb8-1e3c-4301-aa7e-39ec8b9d1efb",
   "metadata": {},
   "source": [
    "The value 0 tells us that there are no missing values in our data frame. "
   ]
  },
  {
   "cell_type": "markdown",
   "id": "b0295170-272b-40b7-8531-cc444fc8292a",
   "metadata": {},
   "source": [
    "__Splitting Data into Training and Testing sets__\n",
    "\n",
    "Let's separate our data into training data testing data. The reason we do this is because we want to build our classifier based on the training data only, but we also want to evaluate our classifier and thus will need to reserve testing data to do so.\n",
    "\n",
    "First, we set a seed so results are reproducible, and then let's summarize the training data to get a good idea of what we are working with."
   ]
  },
  {
   "cell_type": "code",
   "execution_count": 6,
   "id": "1127ed86-2e13-4ef3-80b6-f1b904d01d1b",
   "metadata": {},
   "outputs": [
    {
     "data": {
      "text/html": [
       "<table class=\"dataframe\">\n",
       "<caption>A tibble: 227 × 11</caption>\n",
       "<thead>\n",
       "\t<tr><th scope=col>age</th><th scope=col>cp</th><th scope=col>trestbps</th><th scope=col>chol</th><th scope=col>fbs</th><th scope=col>restecg</th><th scope=col>thalach</th><th scope=col>exang</th><th scope=col>oldpeak</th><th scope=col>slope</th><th scope=col>diag</th></tr>\n",
       "\t<tr><th scope=col>&lt;dbl&gt;</th><th scope=col>&lt;dbl&gt;</th><th scope=col>&lt;dbl&gt;</th><th scope=col>&lt;dbl&gt;</th><th scope=col>&lt;dbl&gt;</th><th scope=col>&lt;dbl&gt;</th><th scope=col>&lt;dbl&gt;</th><th scope=col>&lt;dbl&gt;</th><th scope=col>&lt;dbl&gt;</th><th scope=col>&lt;dbl&gt;</th><th scope=col>&lt;fct&gt;</th></tr>\n",
       "</thead>\n",
       "<tbody>\n",
       "\t<tr><td>63</td><td>1</td><td>145</td><td>233</td><td>1</td><td>2</td><td>150</td><td>0</td><td>2.3</td><td>3</td><td>FALSE</td></tr>\n",
       "\t<tr><td>37</td><td>3</td><td>130</td><td>250</td><td>0</td><td>0</td><td>187</td><td>0</td><td>3.5</td><td>3</td><td>FALSE</td></tr>\n",
       "\t<tr><td>41</td><td>2</td><td>130</td><td>204</td><td>0</td><td>2</td><td>172</td><td>0</td><td>1.4</td><td>1</td><td>FALSE</td></tr>\n",
       "\t<tr><td>⋮</td><td>⋮</td><td>⋮</td><td>⋮</td><td>⋮</td><td>⋮</td><td>⋮</td><td>⋮</td><td>⋮</td><td>⋮</td><td>⋮</td></tr>\n",
       "\t<tr><td>57</td><td>4</td><td>140</td><td>241</td><td>0</td><td>0</td><td>123</td><td>1</td><td>0.2</td><td>2</td><td>TRUE</td></tr>\n",
       "\t<tr><td>68</td><td>4</td><td>144</td><td>193</td><td>1</td><td>0</td><td>141</td><td>0</td><td>3.4</td><td>2</td><td>TRUE</td></tr>\n",
       "\t<tr><td>57</td><td>4</td><td>130</td><td>131</td><td>0</td><td>0</td><td>115</td><td>1</td><td>1.2</td><td>2</td><td>TRUE</td></tr>\n",
       "</tbody>\n",
       "</table>\n"
      ],
      "text/latex": [
       "A tibble: 227 × 11\n",
       "\\begin{tabular}{lllllllllll}\n",
       " age & cp & trestbps & chol & fbs & restecg & thalach & exang & oldpeak & slope & diag\\\\\n",
       " <dbl> & <dbl> & <dbl> & <dbl> & <dbl> & <dbl> & <dbl> & <dbl> & <dbl> & <dbl> & <fct>\\\\\n",
       "\\hline\n",
       "\t 63 & 1 & 145 & 233 & 1 & 2 & 150 & 0 & 2.3 & 3 & FALSE\\\\\n",
       "\t 37 & 3 & 130 & 250 & 0 & 0 & 187 & 0 & 3.5 & 3 & FALSE\\\\\n",
       "\t 41 & 2 & 130 & 204 & 0 & 2 & 172 & 0 & 1.4 & 1 & FALSE\\\\\n",
       "\t ⋮ & ⋮ & ⋮ & ⋮ & ⋮ & ⋮ & ⋮ & ⋮ & ⋮ & ⋮ & ⋮\\\\\n",
       "\t 57 & 4 & 140 & 241 & 0 & 0 & 123 & 1 & 0.2 & 2 & TRUE\\\\\n",
       "\t 68 & 4 & 144 & 193 & 1 & 0 & 141 & 0 & 3.4 & 2 & TRUE\\\\\n",
       "\t 57 & 4 & 130 & 131 & 0 & 0 & 115 & 1 & 1.2 & 2 & TRUE\\\\\n",
       "\\end{tabular}\n"
      ],
      "text/markdown": [
       "\n",
       "A tibble: 227 × 11\n",
       "\n",
       "| age &lt;dbl&gt; | cp &lt;dbl&gt; | trestbps &lt;dbl&gt; | chol &lt;dbl&gt; | fbs &lt;dbl&gt; | restecg &lt;dbl&gt; | thalach &lt;dbl&gt; | exang &lt;dbl&gt; | oldpeak &lt;dbl&gt; | slope &lt;dbl&gt; | diag &lt;fct&gt; |\n",
       "|---|---|---|---|---|---|---|---|---|---|---|\n",
       "| 63 | 1 | 145 | 233 | 1 | 2 | 150 | 0 | 2.3 | 3 | FALSE |\n",
       "| 37 | 3 | 130 | 250 | 0 | 0 | 187 | 0 | 3.5 | 3 | FALSE |\n",
       "| 41 | 2 | 130 | 204 | 0 | 2 | 172 | 0 | 1.4 | 1 | FALSE |\n",
       "| ⋮ | ⋮ | ⋮ | ⋮ | ⋮ | ⋮ | ⋮ | ⋮ | ⋮ | ⋮ | ⋮ |\n",
       "| 57 | 4 | 140 | 241 | 0 | 0 | 123 | 1 | 0.2 | 2 | TRUE |\n",
       "| 68 | 4 | 144 | 193 | 1 | 0 | 141 | 0 | 3.4 | 2 | TRUE |\n",
       "| 57 | 4 | 130 | 131 | 0 | 0 | 115 | 1 | 1.2 | 2 | TRUE |\n",
       "\n"
      ],
      "text/plain": [
       "    age cp trestbps chol fbs restecg thalach exang oldpeak slope diag \n",
       "1   63  1  145      233  1   2       150     0     2.3     3     FALSE\n",
       "2   37  3  130      250  0   0       187     0     3.5     3     FALSE\n",
       "3   41  2  130      204  0   2       172     0     1.4     1     FALSE\n",
       "⋮   ⋮   ⋮  ⋮        ⋮    ⋮   ⋮       ⋮       ⋮     ⋮       ⋮     ⋮    \n",
       "225 57  4  140      241  0   0       123     1     0.2     2     TRUE \n",
       "226 68  4  144      193  1   0       141     0     3.4     2     TRUE \n",
       "227 57  4  130      131  0   0       115     1     1.2     2     TRUE "
      ]
     },
     "metadata": {},
     "output_type": "display_data"
    }
   ],
   "source": [
    "#splitting dataframe into training, testing datasets\n",
    "set.seed(1)\n",
    "\n",
    "heart_split <- initial_split(heart_clean, prop = 3/4, strata = diag)\n",
    "heart_training <- training(heart_split)\n",
    "heart_testing <- testing(heart_split)\n",
    "\n",
    "heart_training"
   ]
  },
  {
   "cell_type": "markdown",
   "id": "4e013d82-26a6-4d5f-9165-ac485c03f4fe",
   "metadata": {},
   "source": [
    "_Figure 4: Table showing 6 observations from heart_training_\n",
    "\n",
    "__Summarizing data into mean, min, max, for predictions__\n",
    "\n",
    "We then can summarize our training data into a table below."
   ]
  },
  {
   "cell_type": "code",
   "execution_count": 7,
   "id": "df47484d-4dfe-4151-90a3-876d79752782",
   "metadata": {},
   "outputs": [
    {
     "data": {
      "text/html": [
       "<table class=\"dataframe\">\n",
       "<caption>A tibble: 2 × 14</caption>\n",
       "<thead>\n",
       "\t<tr><th scope=col>diag</th><th scope=col>min_age</th><th scope=col>max_age</th><th scope=col>mean_age</th><th scope=col>min_cp</th><th scope=col>max_cp</th><th scope=col>mean_cp</th><th scope=col>min_chol</th><th scope=col>max_chol</th><th scope=col>mean_chol</th><th scope=col>min_trestbps</th><th scope=col>max_trestbps</th><th scope=col>mean_trestbps</th><th scope=col>no_patients</th></tr>\n",
       "\t<tr><th scope=col>&lt;fct&gt;</th><th scope=col>&lt;dbl&gt;</th><th scope=col>&lt;dbl&gt;</th><th scope=col>&lt;dbl&gt;</th><th scope=col>&lt;dbl&gt;</th><th scope=col>&lt;dbl&gt;</th><th scope=col>&lt;dbl&gt;</th><th scope=col>&lt;dbl&gt;</th><th scope=col>&lt;dbl&gt;</th><th scope=col>&lt;dbl&gt;</th><th scope=col>&lt;dbl&gt;</th><th scope=col>&lt;dbl&gt;</th><th scope=col>&lt;dbl&gt;</th><th scope=col>&lt;int&gt;</th></tr>\n",
       "</thead>\n",
       "<tbody>\n",
       "\t<tr><td>FALSE</td><td>29</td><td>76</td><td>52.96748</td><td>1</td><td>4</td><td>2.788618</td><td>157</td><td>417</td><td>243.9106</td><td> 94</td><td>180</td><td>130.4553</td><td>123</td></tr>\n",
       "\t<tr><td>TRUE </td><td>35</td><td>77</td><td>57.23077</td><td>1</td><td>4</td><td>3.596154</td><td>131</td><td>407</td><td>250.5673</td><td>100</td><td>180</td><td>135.5096</td><td>104</td></tr>\n",
       "</tbody>\n",
       "</table>\n"
      ],
      "text/latex": [
       "A tibble: 2 × 14\n",
       "\\begin{tabular}{llllllllllllll}\n",
       " diag & min\\_age & max\\_age & mean\\_age & min\\_cp & max\\_cp & mean\\_cp & min\\_chol & max\\_chol & mean\\_chol & min\\_trestbps & max\\_trestbps & mean\\_trestbps & no\\_patients\\\\\n",
       " <fct> & <dbl> & <dbl> & <dbl> & <dbl> & <dbl> & <dbl> & <dbl> & <dbl> & <dbl> & <dbl> & <dbl> & <dbl> & <int>\\\\\n",
       "\\hline\n",
       "\t FALSE & 29 & 76 & 52.96748 & 1 & 4 & 2.788618 & 157 & 417 & 243.9106 &  94 & 180 & 130.4553 & 123\\\\\n",
       "\t TRUE  & 35 & 77 & 57.23077 & 1 & 4 & 3.596154 & 131 & 407 & 250.5673 & 100 & 180 & 135.5096 & 104\\\\\n",
       "\\end{tabular}\n"
      ],
      "text/markdown": [
       "\n",
       "A tibble: 2 × 14\n",
       "\n",
       "| diag &lt;fct&gt; | min_age &lt;dbl&gt; | max_age &lt;dbl&gt; | mean_age &lt;dbl&gt; | min_cp &lt;dbl&gt; | max_cp &lt;dbl&gt; | mean_cp &lt;dbl&gt; | min_chol &lt;dbl&gt; | max_chol &lt;dbl&gt; | mean_chol &lt;dbl&gt; | min_trestbps &lt;dbl&gt; | max_trestbps &lt;dbl&gt; | mean_trestbps &lt;dbl&gt; | no_patients &lt;int&gt; |\n",
       "|---|---|---|---|---|---|---|---|---|---|---|---|---|---|\n",
       "| FALSE | 29 | 76 | 52.96748 | 1 | 4 | 2.788618 | 157 | 417 | 243.9106 |  94 | 180 | 130.4553 | 123 |\n",
       "| TRUE  | 35 | 77 | 57.23077 | 1 | 4 | 3.596154 | 131 | 407 | 250.5673 | 100 | 180 | 135.5096 | 104 |\n",
       "\n"
      ],
      "text/plain": [
       "  diag  min_age max_age mean_age min_cp max_cp mean_cp  min_chol max_chol\n",
       "1 FALSE 29      76      52.96748 1      4      2.788618 157      417     \n",
       "2 TRUE  35      77      57.23077 1      4      3.596154 131      407     \n",
       "  mean_chol min_trestbps max_trestbps mean_trestbps no_patients\n",
       "1 243.9106   94          180          130.4553      123        \n",
       "2 250.5673  100          180          135.5096      104        "
      ]
     },
     "metadata": {},
     "output_type": "display_data"
    }
   ],
   "source": [
    "#summarizing training data into a table and getting mean, min, max\n",
    "heart_summarized <- heart_training %>%\n",
    "group_by(diag) %>%\n",
    "summarize(min_age = min(age), max_age = max(age), mean_age = mean(age),\n",
    "          min_cp  = min(cp), max_cp = max(cp), mean_cp = mean(cp),\n",
    "          min_chol = min(chol), max_chol = max(chol), mean_chol = mean(chol),\n",
    "          min_trestbps = min(trestbps), max_trestbps = max(trestbps), \n",
    "                             mean_trestbps = mean(trestbps), no_patients = n())\n",
    "heart_summarized\n",
    "          \n",
    "          \n"
   ]
  },
  {
   "cell_type": "markdown",
   "id": "8d6f7a02-f156-4cd0-9c31-05ba04d88107",
   "metadata": {},
   "source": [
    "_Figure 5: Summary table of heart_training_\n",
    "\n",
    "In the table above we see that the min, mean, and max values for all Age, Chest pain, Cholesteral, and Blood Pressure were all greater for the TRUE group compared to the FALSE group. We can predict from this that our classifier will choose those with who are generally older, with more chest pain, and high cholesteral and blood pressure levels to have heart disease.\n",
    "\n",
    "Additionally, we see that there are no anomalies and the number of observations with respect to the diagnosis value (whether or not the patent has heart disease) is fair. `no_patients` tells us the number of rows. "
   ]
  },
  {
   "cell_type": "markdown",
   "id": "c4c144ee-d94d-4579-82e2-806a093daf8e",
   "metadata": {},
   "source": [
    "__Visualizing data for correlation of diagnosis__"
   ]
  },
  {
   "cell_type": "code",
   "execution_count": 8,
   "id": "c4093178-7471-496a-80dc-e45f508ccebc",
   "metadata": {},
   "outputs": [
    {
     "name": "stderr",
     "output_type": "stream",
     "text": [
      "`stat_bin()` using `bins = 30`. Pick better value with `binwidth`.\n",
      "\n"
     ]
    },
    {
     "data": {
      "image/png": "[encoded data removed]",
      "text/plain": [
       "plot without title"
      ]
     },
     "metadata": {
      "image/png": {
       "height": 840,
       "width": 960
      }
     },
     "output_type": "display_data"
    }
   ],
   "source": [
    "#Plotting this data to find correlation of diagnosis\n",
    "options(repr.plot.width = 8, repr.plot.height = 7)\n",
    "\n",
    "# RColorBrewer features for color blindness \n",
    "library(RColorBrewer)\n",
    "\n",
    "\n",
    "graph <- ggplot(heart_training, aes(x = age, fill = diag, color = diag)) +\n",
    "                 geom_histogram(binwidth=2) +\n",
    "                 labs(x = \"Age (years)\", y = \"Number of patients\", color = \"Diagnosis\", fill = \"Diagnosis\", \n",
    "                      title = \"Distribution of Age\") +\n",
    "                 theme(text = element_text(size = 15)) +\n",
    "                 scale_x_continuous(breaks = seq(20, 80, by = 5)) +\n",
    "                 scale_fill_brewer(palette = \"Dark2\") \n",
    "\n",
    "graph2 <- ggplot(heart_training, aes(x = cp, color = diag, fill = diag)) +\n",
    "                 geom_histogram(bins = 13) +\n",
    "                 labs(x = \"Chest Pain\", y = \"Number of patients\", color = \"Diagnosis\", fill = \"Diagnosis\", \n",
    "                      title = \"Distribution of Chest Pain\") +\n",
    "                 theme(text = element_text(size = 15))+\n",
    "                 scale_fill_brewer(palette = \"Dark2\") \n",
    "\n",
    "graph3 <- ggplot(heart_training, aes(x = trestbps, color = diag, fill = diag)) +\n",
    "                 geom_histogram(binwidth=3) +\n",
    "                 labs(x = \"Resting blood Pressure\", y = \"Number of patients\",\n",
    "                      color = \"Diagnosis\", fill = \"Diagnosis\", title = \"Distribution of Resting Blood Pressure\") +\n",
    "                 theme(text = element_text(size = 15))+\n",
    "                 scale_fill_brewer(palette = \"Dark2\") \n",
    "\n",
    "graph4 <- ggplot(heart_training, aes(x = chol,  color = diag, fill = diag)) +\n",
    "                 geom_histogram() +\n",
    "                 labs(x = \"Cholesterol (mg/dl))\", y = \"Number of patients\", \n",
    "                      color = \"Diagnosis\", fill = \"Diagnosis\", title = \"Distribution of Cholesterol Levels\") +\n",
    "                 theme(text = element_text(size = 15))+\n",
    "                 scale_fill_brewer(palette = \"Dark2\") \n",
    "\n",
    "#To make visulations bigger \n",
    "options(repr.plot.width = 16, repr.plot.height = 14)\n",
    "plot_grid(graph,graph2,graph3,graph4, byrow = FALSE, \n",
    "          ncol = 2, nrow = 2) \n",
    "\n"
   ]
  },
  {
   "cell_type": "markdown",
   "id": "daab2bd6-038d-40b4-a05d-bb49cd9d5fe8",
   "metadata": {},
   "source": [
    "_Figure 6: Histogram of age (top left)_  ;   _Figure 7: Histogram of Resting Blood Pressure (top right)_\n",
    "\n",
    "_Figure 8: Histogram of Chest Pain (bottom left)_ ;  _Figure 9: Histogram of Cholestrol levels (bottom right)_\n",
    "\n",
    "Based on Figure 6 above, we see that most of the patients in the training set have heart disease present in their late fifties, but also that most of the patients are in their late fifites. Most values are concentrated between the ages of 50 and 65 though there are a few values outside of that range. A very small portion of the patients are beyond the age of 75. \n",
    "\n",
    "Figure 7, representing the distribution of resting blood pressure, does not seem to have a center where people with heart disease are concentrated in. We do notice that most of the patients with a resting blood pressure beyond 160 have heart disease, though the total number of patients with a resting blood pressure beyond 160 is small.\n",
    "\n",
    "Figure 8, or the Distribution of Chest Pain graph shows that most patients have a chest pain level of 4 which is severe chest pain. Most patients with a chest pain of value 4 are diagnosed with heart disease. \n",
    "\n",
    "Lastly, Figure 9, or the Distribution of Cholestrol Levels graph has most values concentrated between a cholestrol level of 200 to 300. Based on this graph, most of the patients with heart disease seem to have a cholestrol level between 200 to 300 though there is no center as the shape created from values of patients with heart disease forms a rectangular like shape. There are also some anomalies, as there are patients with a cholestrol level around 400 and near 100. "
   ]
  },
  {
   "cell_type": "markdown",
   "id": "eceab9e5-35ab-4c34-8aa3-07ff5db9bbb2",
   "metadata": {},
   "source": [
    "## Predictor Variable Selection Analysis "
   ]
  },
  {
   "cell_type": "markdown",
   "id": "d7ccac3d-b73e-41ce-aff6-dca970542853",
   "metadata": {},
   "source": [
    "Now that we have our testing and training data, we want to see what combination of our predictor values will be the most accurate. \n",
    "To figure out the best predictor variables to use for our classifier, we will be using the Foward Selection method using our training data set. \n",
    "First, let's select for the predictors we are working with and get the column names of our predictor variables. We will store the relevant column names in `pred_names`."
   ]
  },
  {
   "cell_type": "code",
   "execution_count": 9,
   "id": "52379de6-8fbf-4e46-a5b0-ebb1ddb7a212",
   "metadata": {},
   "outputs": [
    {
     "data": {
      "text/html": [
       "<style>\n",
       ".list-inline {list-style: none; margin:0; padding: 0}\n",
       ".list-inline>li {display: inline-block}\n",
       ".list-inline>li:not(:last-child)::after {content: \"\\00b7\"; padding: 0 .5ex}\n",
       "</style>\n",
       "<ol class=list-inline><li>'age'</li><li>'cp'</li><li>'trestbps'</li><li>'chol'</li><li>'fbs'</li><li>'restecg'</li><li>'thalach'</li><li>'exang'</li><li>'oldpeak'</li><li>'slope'</li></ol>\n"
      ],
      "text/latex": [
       "\\begin{enumerate*}\n",
       "\\item 'age'\n",
       "\\item 'cp'\n",
       "\\item 'trestbps'\n",
       "\\item 'chol'\n",
       "\\item 'fbs'\n",
       "\\item 'restecg'\n",
       "\\item 'thalach'\n",
       "\\item 'exang'\n",
       "\\item 'oldpeak'\n",
       "\\item 'slope'\n",
       "\\end{enumerate*}\n"
      ],
      "text/markdown": [
       "1. 'age'\n",
       "2. 'cp'\n",
       "3. 'trestbps'\n",
       "4. 'chol'\n",
       "5. 'fbs'\n",
       "6. 'restecg'\n",
       "7. 'thalach'\n",
       "8. 'exang'\n",
       "9. 'oldpeak'\n",
       "10. 'slope'\n",
       "\n",
       "\n"
      ],
      "text/plain": [
       " [1] \"age\"      \"cp\"       \"trestbps\" \"chol\"     \"fbs\"      \"restecg\" \n",
       " [7] \"thalach\"  \"exang\"    \"oldpeak\"  \"slope\"   "
      ]
     },
     "metadata": {},
     "output_type": "display_data"
    }
   ],
   "source": [
    "options(repr.plot.width = 8, repr.plot.height = 7)\n",
    "\n",
    "\n",
    "heart_sub <- heart_training |>\n",
    "             select(diag, \n",
    "                    c(\"age\",\"cp\",\"trestbps\",\n",
    "           \"chol\",\"fbs\",\"restecg\",\"thalach\",\n",
    "           \"exang\",\"oldpeak\",\"slope\",\n",
    "           \"diag\") )\n",
    "pred_names <- colnames(heart_sub |> select(-diag))\n",
    "pred_names"
   ]
  },
  {
   "cell_type": "markdown",
   "id": "80185aee-13c8-4ae2-bce2-e5f7965f1e01",
   "metadata": {},
   "source": [
    "_Figure 10: Selected predictor variable column names_\n",
    "\n",
    "Now let's create a model formula using the paste function. We will be naming this heart_formula."
   ]
  },
  {
   "cell_type": "code",
   "execution_count": 10,
   "id": "fd069595-2140-4493-a8fe-74e0e4abb1a8",
   "metadata": {},
   "outputs": [
    {
     "data": {
      "text/html": [
       "'diag ~ age+cp+trestbps+chol+fbs+restecg+thalach+exang+oldpeak+slope'"
      ],
      "text/latex": [
       "'diag \\textasciitilde{} age+cp+trestbps+chol+fbs+restecg+thalach+exang+oldpeak+slope'"
      ],
      "text/markdown": [
       "'diag ~ age+cp+trestbps+chol+fbs+restecg+thalach+exang+oldpeak+slope'"
      ],
      "text/plain": [
       "[1] \"diag ~ age+cp+trestbps+chol+fbs+restecg+thalach+exang+oldpeak+slope\""
      ]
     },
     "metadata": {},
     "output_type": "display_data"
    }
   ],
   "source": [
    "heart_formula <- paste(\"diag\", \"~\", paste(pred_names, collapse = \"+\"))\n",
    "heart_formula"
   ]
  },
  {
   "cell_type": "markdown",
   "id": "a56e98a2-229b-4f2c-8f9d-57cabbd4ad29",
   "metadata": {},
   "source": [
    "Lastly, we will implement the code for the Foward Selection method to find the best predictors for our purposes. The scaffording for the code below can be found in the datasciencebook.ca under chapter 6.8 and was created by Campbell and Timbers (Campbell et al., 2022). "
   ]
  },
  {
   "cell_type": "code",
   "execution_count": 11,
   "id": "bc48f072-9956-4e78-b2d5-b7b0bcb9276e",
   "metadata": {},
   "outputs": [
    {
     "data": {
      "text/html": [
       "<table class=\"dataframe\">\n",
       "<caption>A tibble: 10 × 3</caption>\n",
       "<thead>\n",
       "\t<tr><th scope=col>size</th><th scope=col>model_string</th><th scope=col>accuracy</th></tr>\n",
       "\t<tr><th scope=col>&lt;int&gt;</th><th scope=col>&lt;chr&gt;</th><th scope=col>&lt;dbl&gt;</th></tr>\n",
       "</thead>\n",
       "<tbody>\n",
       "\t<tr><td>1</td><td>diag ~ oldpeak         </td><td>0.7094203</td></tr>\n",
       "\t<tr><td>2</td><td>diag ~ oldpeak+cp      </td><td>0.7668248</td></tr>\n",
       "\t<tr><td>3</td><td>diag ~ oldpeak+cp+exang</td><td>0.7851954</td></tr>\n",
       "\t<tr><td>⋮</td><td>⋮</td><td>⋮</td></tr>\n",
       "\t<tr><td> 8</td><td>diag ~ oldpeak+cp+exang+age+thalach+trestbps+chol+fbs              </td><td>0.7897409</td></tr>\n",
       "\t<tr><td> 9</td><td>diag ~ oldpeak+cp+exang+age+thalach+trestbps+chol+fbs+restecg      </td><td>0.7853008</td></tr>\n",
       "\t<tr><td>10</td><td>diag ~ oldpeak+cp+exang+age+thalach+trestbps+chol+fbs+restecg+slope</td><td>0.7717655</td></tr>\n",
       "</tbody>\n",
       "</table>\n"
      ],
      "text/latex": [
       "A tibble: 10 × 3\n",
       "\\begin{tabular}{lll}\n",
       " size & model\\_string & accuracy\\\\\n",
       " <int> & <chr> & <dbl>\\\\\n",
       "\\hline\n",
       "\t 1 & diag \\textasciitilde{} oldpeak          & 0.7094203\\\\\n",
       "\t 2 & diag \\textasciitilde{} oldpeak+cp       & 0.7668248\\\\\n",
       "\t 3 & diag \\textasciitilde{} oldpeak+cp+exang & 0.7851954\\\\\n",
       "\t ⋮ & ⋮ & ⋮\\\\\n",
       "\t  8 & diag \\textasciitilde{} oldpeak+cp+exang+age+thalach+trestbps+chol+fbs               & 0.7897409\\\\\n",
       "\t  9 & diag \\textasciitilde{} oldpeak+cp+exang+age+thalach+trestbps+chol+fbs+restecg       & 0.7853008\\\\\n",
       "\t 10 & diag \\textasciitilde{} oldpeak+cp+exang+age+thalach+trestbps+chol+fbs+restecg+slope & 0.7717655\\\\\n",
       "\\end{tabular}\n"
      ],
      "text/markdown": [
       "\n",
       "A tibble: 10 × 3\n",
       "\n",
       "| size &lt;int&gt; | model_string &lt;chr&gt; | accuracy &lt;dbl&gt; |\n",
       "|---|---|---|\n",
       "| 1 | diag ~ oldpeak          | 0.7094203 |\n",
       "| 2 | diag ~ oldpeak+cp       | 0.7668248 |\n",
       "| 3 | diag ~ oldpeak+cp+exang | 0.7851954 |\n",
       "| ⋮ | ⋮ | ⋮ |\n",
       "|  8 | diag ~ oldpeak+cp+exang+age+thalach+trestbps+chol+fbs               | 0.7897409 |\n",
       "|  9 | diag ~ oldpeak+cp+exang+age+thalach+trestbps+chol+fbs+restecg       | 0.7853008 |\n",
       "| 10 | diag ~ oldpeak+cp+exang+age+thalach+trestbps+chol+fbs+restecg+slope | 0.7717655 |\n",
       "\n"
      ],
      "text/plain": [
       "   size model_string                                                       \n",
       "1  1    diag ~ oldpeak                                                     \n",
       "2  2    diag ~ oldpeak+cp                                                  \n",
       "3  3    diag ~ oldpeak+cp+exang                                            \n",
       "⋮  ⋮    ⋮                                                                  \n",
       "8   8   diag ~ oldpeak+cp+exang+age+thalach+trestbps+chol+fbs              \n",
       "9   9   diag ~ oldpeak+cp+exang+age+thalach+trestbps+chol+fbs+restecg      \n",
       "10 10   diag ~ oldpeak+cp+exang+age+thalach+trestbps+chol+fbs+restecg+slope\n",
       "   accuracy \n",
       "1  0.7094203\n",
       "2  0.7668248\n",
       "3  0.7851954\n",
       "⋮  ⋮        \n",
       "8  0.7897409\n",
       "9  0.7853008\n",
       "10 0.7717655"
      ]
     },
     "metadata": {},
     "output_type": "display_data"
    }
   ],
   "source": [
    "set.seed(21) \n",
    "\n",
    "# Empty tibble to store our results\n",
    "accuracies <- tibble(size = integer(), \n",
    "                     model_string = character(), \n",
    "                     accuracy = numeric())\n",
    "\n",
    "# Here, we create the model specification\n",
    "knn_spec <- nearest_neighbor(weight_func = \"rectangular\", \n",
    "                             neighbors = tune()) |>\n",
    "     set_engine(\"kknn\") |>\n",
    "     set_mode(\"classification\")\n",
    "\n",
    "# Here, we use a 5-fold cross validation for the sake of time and computational power \n",
    "heart_vfold <- vfold_cv(heart_sub, v = 5, strata = diag)\n",
    "\n",
    "# Stores number of total predictors\n",
    "n_total <- length(pred_names)\n",
    "\n",
    "# Stores the selected predictors\n",
    "selected <- c()\n",
    "\n",
    "# Iterates from 1 to the total number of predictors\n",
    "# Outside part of nested for loop \n",
    "for (i in 1:n_total) {    \n",
    "    accs <- list()\n",
    "    models <- list()\n",
    "    \n",
    "    # Iterates until every predictor is added \n",
    "    #Inside part of nested for loop \n",
    "    for (j in 1:length(pred_names)) {\n",
    "        \n",
    "        # Model string for this combination of predictors\n",
    "        preds_new <- c(selected, pred_names[[j]])\n",
    "        model_string <- paste(\"diag\", \"~\", paste(preds_new, collapse=\"+\"))\n",
    "\n",
    "        # Recipe from the model string; scales all predictors \n",
    "        heart_recipe <- recipe(as.formula(model_string), \n",
    "                                data = heart_sub) |>\n",
    "                          step_scale(all_predictors()) |>\n",
    "                          step_center(all_predictors())\n",
    "\n",
    "        # Here, we tune the classifier with our chose predictors\n",
    "        # and collect the estimated accuracy\n",
    "        \n",
    "        acc <- workflow() |>\n",
    "          add_recipe(heart_recipe) |>\n",
    "          add_model(knn_spec) |>\n",
    "          tune_grid(resamples = heart_vfold, grid = 10) |>\n",
    "          collect_metrics() |>\n",
    "          filter(.metric == \"accuracy\") |>\n",
    "          summarize(mx = max(mean))\n",
    "        acc <- acc$mx |> unlist()\n",
    "\n",
    "        \n",
    "        # Adding the results to the dataframe\n",
    "        \n",
    "        accs[[j]] <- acc\n",
    "        models[[j]] <- model_string\n",
    "    }\n",
    "    jstar <- which.max(unlist(accs))\n",
    "    accuracies <- accuracies |> \n",
    "      add_row(size = i, \n",
    "              model_string = models[[jstar]], \n",
    "              accuracy = accs[[jstar]])\n",
    "    selected <- c(selected, pred_names[[jstar]])\n",
    "    pred_names <- pred_names[-jstar]\n",
    "}\n",
    "accuracies\n"
   ]
  },
  {
   "cell_type": "markdown",
   "id": "2e8822cf-2009-47bf-b078-6adca7af823a",
   "metadata": {},
   "source": [
    "_Figure 11: Observations of accuracy with respect to number of predictors used_\n",
    "\n",
    "Let's plot the estimated accuracy against the number of predictors to see which group of predictors lets us obtain the highest accuracy."
   ]
  },
  {
   "cell_type": "code",
   "execution_count": 12,
   "id": "a733ebe8-6265-4721-ba00-95c95c4b91e8",
   "metadata": {},
   "outputs": [
    {
     "data": {
      "text/html": [
       "<table class=\"dataframe\">\n",
       "<caption>A tibble: 6 × 3</caption>\n",
       "<thead>\n",
       "\t<tr><th scope=col>size</th><th scope=col>model_string</th><th scope=col>accuracy</th></tr>\n",
       "\t<tr><th scope=col>&lt;int&gt;</th><th scope=col>&lt;chr&gt;</th><th scope=col>&lt;dbl&gt;</th></tr>\n",
       "</thead>\n",
       "<tbody>\n",
       "\t<tr><td>1</td><td>diag ~ oldpeak                              </td><td>0.7094203</td></tr>\n",
       "\t<tr><td>2</td><td>diag ~ oldpeak+cp                           </td><td>0.7668248</td></tr>\n",
       "\t<tr><td>3</td><td>diag ~ oldpeak+cp+exang                     </td><td>0.7851954</td></tr>\n",
       "\t<tr><td>4</td><td>diag ~ oldpeak+cp+exang+age                 </td><td>0.7894466</td></tr>\n",
       "\t<tr><td>5</td><td>diag ~ oldpeak+cp+exang+age+thalach         </td><td>0.7986342</td></tr>\n",
       "\t<tr><td>6</td><td>diag ~ oldpeak+cp+exang+age+thalach+trestbps</td><td>0.7944840</td></tr>\n",
       "</tbody>\n",
       "</table>\n"
      ],
      "text/latex": [
       "A tibble: 6 × 3\n",
       "\\begin{tabular}{lll}\n",
       " size & model\\_string & accuracy\\\\\n",
       " <int> & <chr> & <dbl>\\\\\n",
       "\\hline\n",
       "\t 1 & diag \\textasciitilde{} oldpeak                               & 0.7094203\\\\\n",
       "\t 2 & diag \\textasciitilde{} oldpeak+cp                            & 0.7668248\\\\\n",
       "\t 3 & diag \\textasciitilde{} oldpeak+cp+exang                      & 0.7851954\\\\\n",
       "\t 4 & diag \\textasciitilde{} oldpeak+cp+exang+age                  & 0.7894466\\\\\n",
       "\t 5 & diag \\textasciitilde{} oldpeak+cp+exang+age+thalach          & 0.7986342\\\\\n",
       "\t 6 & diag \\textasciitilde{} oldpeak+cp+exang+age+thalach+trestbps & 0.7944840\\\\\n",
       "\\end{tabular}\n"
      ],
      "text/markdown": [
       "\n",
       "A tibble: 6 × 3\n",
       "\n",
       "| size &lt;int&gt; | model_string &lt;chr&gt; | accuracy &lt;dbl&gt; |\n",
       "|---|---|---|\n",
       "| 1 | diag ~ oldpeak                               | 0.7094203 |\n",
       "| 2 | diag ~ oldpeak+cp                            | 0.7668248 |\n",
       "| 3 | diag ~ oldpeak+cp+exang                      | 0.7851954 |\n",
       "| 4 | diag ~ oldpeak+cp+exang+age                  | 0.7894466 |\n",
       "| 5 | diag ~ oldpeak+cp+exang+age+thalach          | 0.7986342 |\n",
       "| 6 | diag ~ oldpeak+cp+exang+age+thalach+trestbps | 0.7944840 |\n",
       "\n"
      ],
      "text/plain": [
       "  size model_string                                 accuracy \n",
       "1 1    diag ~ oldpeak                               0.7094203\n",
       "2 2    diag ~ oldpeak+cp                            0.7668248\n",
       "3 3    diag ~ oldpeak+cp+exang                      0.7851954\n",
       "4 4    diag ~ oldpeak+cp+exang+age                  0.7894466\n",
       "5 5    diag ~ oldpeak+cp+exang+age+thalach          0.7986342\n",
       "6 6    diag ~ oldpeak+cp+exang+age+thalach+trestbps 0.7944840"
      ]
     },
     "metadata": {},
     "output_type": "display_data"
    },
    {
     "data": {
      "image/png": "[encoded data removed]",
      "text/plain": [
       "plot without title"
      ]
     },
     "metadata": {
      "image/png": {
       "height": 420,
       "width": 480
      }
     },
     "output_type": "display_data"
    }
   ],
   "source": [
    "best_pred_plot <- accuracies |>\n",
    "                  ggplot( aes(x = size, y = accuracy)) +\n",
    "                  geom_point() +\n",
    "                  geom_line() +\n",
    "                  labs(x = \"Number of Predictors\", y = \"Estimated Accuracy\") +\n",
    "                  theme(text = element_text(size = 16)) +\n",
    "                  scale_x_continuous(breaks = seq(0, 10, by = 1))\n",
    "best_pred_plot\n",
    "head(accuracies)"
   ]
  },
  {
   "cell_type": "markdown",
   "id": "d852b2da-11ad-4887-b7c4-6a3e3b32087a",
   "metadata": {},
   "source": [
    "_Figures 12: First 6 observations in accuracies (top), 13: Graph of Estimated Accuracy vs Number of Predictors (bottom)_\n",
    "\n",
    "From Figure 13, we see that these 5 predictors: oldpeak (ST Depression Segment), cp (Chest Pain), exang (Exercise induced angina), age, and thalach (Maximum Heart Rate produced by patient) are the actual best combination of predictor variables to use for our classifier. This is different than our chosen variables above during our preliminary data analysis, age, bloodpressure, chest pain and cholesteral. Therefore, we will use the predictor variables that obtained the highest acccuracy from the Forward Selection method to build our classifier. "
   ]
  },
  {
   "cell_type": "markdown",
   "id": "a1369a9a-ea39-4fa8-9b6a-af11b4f5e02e",
   "metadata": {},
   "source": [
    "# Creating our K-NN Classifier \n",
    "\n",
    "Now that we have concluded the best combination of predictor variables, let's first figure out the best $k$ value (A.K.A. amount of neighbors to predict with, using a K-NN Classifier). To do so, we first must conduct a V-fold Cross Validation. V-fold Cross Validation allows us to create a model, tune it, and graph the results to figure out the $k$ value which obtains the highest accuracy. The steps are as follows:\n",
    "\n",
    "    1. Create a recipe called heart_recipe using the heart training and then split data into 10 v-folds\n",
    "    2. Specify the model for v-fold cross validation using nearest_neighbor() and neighbors = tune() \n",
    "             for a range of possible predictor values\n",
    "    3. Put the specifications and recipe in a workflow() that contains multiple data analysis steps to reduce amount code necessary\n",
    "    4. Plot accuracies against each k value to determine the best k value"
   ]
  },
  {
   "cell_type": "markdown",
   "id": "0104a288-4314-4f3d-9c5a-b39f5b0ef38f",
   "metadata": {},
   "source": [
    "__Creating a recipe called heart_recipe using the heart training and then split data into 10 v-folds__"
   ]
  },
  {
   "cell_type": "code",
   "execution_count": 13,
   "id": "712a5374-b508-4299-96a3-537581a18f55",
   "metadata": {},
   "outputs": [
    {
     "data": {
      "text/plain": [
       "Recipe\n",
       "\n",
       "Inputs:\n",
       "\n",
       "      role #variables\n",
       "   outcome          1\n",
       " predictor          5\n",
       "\n",
       "Operations:\n",
       "\n",
       "Scaling for all_predictors()\n",
       "Centering for all_predictors()"
      ]
     },
     "metadata": {},
     "output_type": "display_data"
    }
   ],
   "source": [
    "set.seed(1) \n",
    "heart_recipe <- recipe(diag ~ oldpeak + cp + exang + age + thalach, data = heart_training) |>\n",
    "  step_scale(all_predictors()) |>\n",
    "  step_center(all_predictors())\n",
    "heart_recipe\n",
    "\n",
    "heart_vfold <- vfold_cv(heart_training, v = 10, strata = diag)"
   ]
  },
  {
   "cell_type": "markdown",
   "id": "d8e555db-0fa8-4539-9184-23e7f0399bd5",
   "metadata": {},
   "source": [
    "__Specifying model using nearest_neighbor()__"
   ]
  },
  {
   "cell_type": "code",
   "execution_count": 14,
   "id": "2624309c-0346-4959-932b-8166955a0a96",
   "metadata": {},
   "outputs": [],
   "source": [
    "knn_spec <- nearest_neighbor(weight_func = \"rectangular\", neighbors = tune()) |>\n",
    "  set_engine(\"kknn\") |>\n",
    "  set_mode(\"classification\")"
   ]
  },
  {
   "cell_type": "markdown",
   "id": "29ccceae-9718-429f-b931-7f5f255b806e",
   "metadata": {},
   "source": [
    "By inputting `rectangular` for `weight_func`, we make our neighbors vote once per neighbor using only straight line distance between points. We input `kknn` for the `set_engine` function to make the model use the `kknn` computational engine (for K Nearest Neighbors) and setting `set_mode` as `classification` lets our model know it's a classification problem (predicting a categorical variable based on quantifications)."
   ]
  },
  {
   "cell_type": "markdown",
   "id": "eb1ed1d2-d94d-47ba-bcac-6e3d2fa6ac8a",
   "metadata": {},
   "source": [
    "__Putting specifications and recipe in a workflow__"
   ]
  },
  {
   "cell_type": "code",
   "execution_count": 15,
   "id": "921f3878-e6e6-494e-9e7b-aac203692be6",
   "metadata": {},
   "outputs": [],
   "source": [
    "set.seed(15)\n",
    "knn_results <- workflow() |>\n",
    "  add_recipe(heart_recipe) |>\n",
    "  add_model(knn_spec) |>\n",
    "  tune_grid(resamples = heart_vfold, grid = 10) |>\n",
    "  collect_metrics()\n"
   ]
  },
  {
   "cell_type": "markdown",
   "id": "3e77ba20-931f-4052-bd66-9e528e5bd652",
   "metadata": {},
   "source": [
    "__Finding accuracies and plotting it in a line graph__"
   ]
  },
  {
   "cell_type": "code",
   "execution_count": 16,
   "id": "ae7971b2-4b9b-4db8-a4a3-d3ae4a5c2ca1",
   "metadata": {},
   "outputs": [
    {
     "data": {
      "image/png": "[encoded data removed]",
      "text/plain": [
       "plot without title"
      ]
     },
     "metadata": {
      "image/png": {
       "height": 420,
       "width": 480
      }
     },
     "output_type": "display_data"
    }
   ],
   "source": [
    "heart_accuracies <- knn_results %>% \n",
    "    filter(.metric == \"accuracy\")\n",
    "\n",
    "options(repr.plot.width = 8, repr.plot.height = 7)\n",
    "cross_val_plot <- heart_accuracies |> \n",
    "    ggplot(aes(x = neighbors, y = mean)) +\n",
    "    geom_point() +\n",
    "    geom_line() +\n",
    "    labs(x = \"Neighbors\", y = \"Accuracy Estimate\") +\n",
    "    scale_x_continuous(breaks = seq(0, 15, by = 1)) +\n",
    "    scale_y_continuous(breaks = seq(0.60, 0.85, by = 0.01)) +\n",
    "    theme(text = element_text(size = 20))\n",
    "cross_val_plot"
   ]
  },
  {
   "cell_type": "markdown",
   "id": "563628ef-7725-4aa9-bbb9-635647d8d5b3",
   "metadata": {},
   "source": [
    "_Figure 14: Graph of Neighbors vs Accuracy Estimate_\n",
    "\n",
    "From Figure 14, we see that the highest accuracy $k$ value is 11. Let's save this value and name it `best_k_value` because we will need to use it when building our classifier. \n"
   ]
  },
  {
   "cell_type": "code",
   "execution_count": 17,
   "id": "e7b4ec30-dc85-44ac-a3de-4dd6d9f2d911",
   "metadata": {},
   "outputs": [
    {
     "data": {
      "text/html": [
       "11"
      ],
      "text/latex": [
       "11"
      ],
      "text/markdown": [
       "11"
      ],
      "text/plain": [
       "[1] 11"
      ]
     },
     "metadata": {},
     "output_type": "display_data"
    }
   ],
   "source": [
    "best_k_value <-  heart_accuracies |>\n",
    "                  filter(mean == max(mean)) |> \n",
    "                  slice(1) |>\n",
    "                  pull(neighbors)\n",
    "best_k_value"
   ]
  },
  {
   "cell_type": "markdown",
   "id": "a693bfb9-9158-4df9-b484-f9b306dc2be5",
   "metadata": {},
   "source": [
    "__Completion of the K-NN Classifier Model__"
   ]
  },
  {
   "cell_type": "markdown",
   "id": "63f80a65-1d54-4b93-ab99-2adb805a9125",
   "metadata": {},
   "source": [
    "Once again we create a workflow and recipe, only this time using the k-value 11 rather than `tune()` for the `neighbors` argument."
   ]
  },
  {
   "cell_type": "code",
   "execution_count": 18,
   "id": "30f5cc12-8703-41b3-8240-662e232729c3",
   "metadata": {},
   "outputs": [],
   "source": [
    "knn_best_spec <- nearest_neighbor(weight_func = \"rectangular\", neighbors = best_k_value) |>\n",
    "  set_engine(\"kknn\") |>\n",
    "  set_mode(\"classification\")\n",
    "\n",
    "heart_best_fit <- workflow() |>\n",
    "  add_recipe(heart_recipe) |>\n",
    "  add_model(knn_best_spec) |>\n",
    "  fit(data = heart_training)"
   ]
  },
  {
   "cell_type": "markdown",
   "id": "00ad1189-d68d-4236-ab1f-2036386995d5",
   "metadata": {},
   "source": [
    "# Predictions on Test Data using our Model \n",
    "\n",
    "Finally, using our model, we can predict our value of interest on the testing data set."
   ]
  },
  {
   "cell_type": "code",
   "execution_count": 19,
   "id": "18a6bd2e-8dc6-40e3-9805-85c930612b90",
   "metadata": {},
   "outputs": [
    {
     "data": {
      "text/html": [
       "<table class=\"dataframe\">\n",
       "<caption>A tibble: 76 × 12</caption>\n",
       "<thead>\n",
       "\t<tr><th scope=col>.pred_class</th><th scope=col>age</th><th scope=col>cp</th><th scope=col>trestbps</th><th scope=col>chol</th><th scope=col>fbs</th><th scope=col>restecg</th><th scope=col>thalach</th><th scope=col>exang</th><th scope=col>oldpeak</th><th scope=col>slope</th><th scope=col>diag</th></tr>\n",
       "\t<tr><th scope=col>&lt;fct&gt;</th><th scope=col>&lt;dbl&gt;</th><th scope=col>&lt;dbl&gt;</th><th scope=col>&lt;dbl&gt;</th><th scope=col>&lt;dbl&gt;</th><th scope=col>&lt;dbl&gt;</th><th scope=col>&lt;dbl&gt;</th><th scope=col>&lt;dbl&gt;</th><th scope=col>&lt;dbl&gt;</th><th scope=col>&lt;dbl&gt;</th><th scope=col>&lt;dbl&gt;</th><th scope=col>&lt;fct&gt;</th></tr>\n",
       "</thead>\n",
       "<tbody>\n",
       "\t<tr><td>FALSE</td><td>56</td><td>2</td><td>120</td><td>236</td><td>0</td><td>0</td><td>178</td><td>0</td><td>0.8</td><td>1</td><td>FALSE</td></tr>\n",
       "\t<tr><td>TRUE </td><td>62</td><td>4</td><td>140</td><td>268</td><td>0</td><td>2</td><td>160</td><td>0</td><td>3.6</td><td>3</td><td>TRUE </td></tr>\n",
       "\t<tr><td>TRUE </td><td>57</td><td>4</td><td>120</td><td>354</td><td>0</td><td>0</td><td>163</td><td>1</td><td>0.6</td><td>1</td><td>FALSE</td></tr>\n",
       "\t<tr><td>⋮</td><td>⋮</td><td>⋮</td><td>⋮</td><td>⋮</td><td>⋮</td><td>⋮</td><td>⋮</td><td>⋮</td><td>⋮</td><td>⋮</td><td>⋮</td></tr>\n",
       "\t<tr><td>FALSE</td><td>45</td><td>1</td><td>110</td><td>264</td><td>0</td><td>0</td><td>132</td><td>0</td><td>1.2</td><td>2</td><td>TRUE </td></tr>\n",
       "\t<tr><td>FALSE</td><td>57</td><td>2</td><td>130</td><td>236</td><td>0</td><td>2</td><td>174</td><td>0</td><td>0.0</td><td>2</td><td>TRUE </td></tr>\n",
       "\t<tr><td>FALSE</td><td>38</td><td>3</td><td>138</td><td>175</td><td>0</td><td>0</td><td>173</td><td>0</td><td>0.0</td><td>1</td><td>FALSE</td></tr>\n",
       "</tbody>\n",
       "</table>\n"
      ],
      "text/latex": [
       "A tibble: 76 × 12\n",
       "\\begin{tabular}{llllllllllll}\n",
       " .pred\\_class & age & cp & trestbps & chol & fbs & restecg & thalach & exang & oldpeak & slope & diag\\\\\n",
       " <fct> & <dbl> & <dbl> & <dbl> & <dbl> & <dbl> & <dbl> & <dbl> & <dbl> & <dbl> & <dbl> & <fct>\\\\\n",
       "\\hline\n",
       "\t FALSE & 56 & 2 & 120 & 236 & 0 & 0 & 178 & 0 & 0.8 & 1 & FALSE\\\\\n",
       "\t TRUE  & 62 & 4 & 140 & 268 & 0 & 2 & 160 & 0 & 3.6 & 3 & TRUE \\\\\n",
       "\t TRUE  & 57 & 4 & 120 & 354 & 0 & 0 & 163 & 1 & 0.6 & 1 & FALSE\\\\\n",
       "\t ⋮ & ⋮ & ⋮ & ⋮ & ⋮ & ⋮ & ⋮ & ⋮ & ⋮ & ⋮ & ⋮ & ⋮\\\\\n",
       "\t FALSE & 45 & 1 & 110 & 264 & 0 & 0 & 132 & 0 & 1.2 & 2 & TRUE \\\\\n",
       "\t FALSE & 57 & 2 & 130 & 236 & 0 & 2 & 174 & 0 & 0.0 & 2 & TRUE \\\\\n",
       "\t FALSE & 38 & 3 & 138 & 175 & 0 & 0 & 173 & 0 & 0.0 & 1 & FALSE\\\\\n",
       "\\end{tabular}\n"
      ],
      "text/markdown": [
       "\n",
       "A tibble: 76 × 12\n",
       "\n",
       "| .pred_class &lt;fct&gt; | age &lt;dbl&gt; | cp &lt;dbl&gt; | trestbps &lt;dbl&gt; | chol &lt;dbl&gt; | fbs &lt;dbl&gt; | restecg &lt;dbl&gt; | thalach &lt;dbl&gt; | exang &lt;dbl&gt; | oldpeak &lt;dbl&gt; | slope &lt;dbl&gt; | diag &lt;fct&gt; |\n",
       "|---|---|---|---|---|---|---|---|---|---|---|---|\n",
       "| FALSE | 56 | 2 | 120 | 236 | 0 | 0 | 178 | 0 | 0.8 | 1 | FALSE |\n",
       "| TRUE  | 62 | 4 | 140 | 268 | 0 | 2 | 160 | 0 | 3.6 | 3 | TRUE  |\n",
       "| TRUE  | 57 | 4 | 120 | 354 | 0 | 0 | 163 | 1 | 0.6 | 1 | FALSE |\n",
       "| ⋮ | ⋮ | ⋮ | ⋮ | ⋮ | ⋮ | ⋮ | ⋮ | ⋮ | ⋮ | ⋮ | ⋮ |\n",
       "| FALSE | 45 | 1 | 110 | 264 | 0 | 0 | 132 | 0 | 1.2 | 2 | TRUE  |\n",
       "| FALSE | 57 | 2 | 130 | 236 | 0 | 2 | 174 | 0 | 0.0 | 2 | TRUE  |\n",
       "| FALSE | 38 | 3 | 138 | 175 | 0 | 0 | 173 | 0 | 0.0 | 1 | FALSE |\n",
       "\n"
      ],
      "text/plain": [
       "   .pred_class age cp trestbps chol fbs restecg thalach exang oldpeak slope\n",
       "1  FALSE       56  2  120      236  0   0       178     0     0.8     1    \n",
       "2  TRUE        62  4  140      268  0   2       160     0     3.6     3    \n",
       "3  TRUE        57  4  120      354  0   0       163     1     0.6     1    \n",
       "⋮  ⋮           ⋮   ⋮  ⋮        ⋮    ⋮   ⋮       ⋮       ⋮     ⋮       ⋮    \n",
       "74 FALSE       45  1  110      264  0   0       132     0     1.2     2    \n",
       "75 FALSE       57  2  130      236  0   2       174     0     0.0     2    \n",
       "76 FALSE       38  3  138      175  0   0       173     0     0.0     1    \n",
       "   diag \n",
       "1  FALSE\n",
       "2  TRUE \n",
       "3  FALSE\n",
       "⋮  ⋮    \n",
       "74 TRUE \n",
       "75 TRUE \n",
       "76 FALSE"
      ]
     },
     "metadata": {},
     "output_type": "display_data"
    }
   ],
   "source": [
    "heart_final_predictions <- predict(heart_best_fit, heart_testing) |> \n",
    "    bind_cols(heart_testing)\n",
    "heart_final_predictions"
   ]
  },
  {
   "cell_type": "markdown",
   "id": "dc7c789d-2674-4479-89d0-faffd38d5fd2",
   "metadata": {},
   "source": [
    "_Figure 15: Predictor class results binded with testing data_\n",
    "\n",
    "Figure 15 displays the predictions our classifier has made for the testing set. However, there are many rows for this prediction. Fortunately, we can create a confusion matrix that displays how many values our predictor got right and wrong."
   ]
  },
  {
   "cell_type": "code",
   "execution_count": 20,
   "id": "9b5faf65-5580-4f58-9d82-69ac1baeeec5",
   "metadata": {},
   "outputs": [
    {
     "data": {
      "text/plain": [
       "          Truth\n",
       "Prediction FALSE TRUE\n",
       "     FALSE    33   12\n",
       "     TRUE      8   23"
      ]
     },
     "metadata": {},
     "output_type": "display_data"
    }
   ],
   "source": [
    " heart_cm <- heart_final_predictions |> \n",
    "     conf_mat(truth = diag, estimate = .pred_class)\n",
    " heart_cm"
   ]
  },
  {
   "cell_type": "markdown",
   "id": "04923358-c970-4f71-b4b4-78053b393b83",
   "metadata": {},
   "source": [
    "_Figure 16: Basic confusion matrix_\n",
    "\n",
    "This confusion matrix tells us that 36 patients were correctly predicted to not have heart disease, and 23 patients were correctly predicted to have heart disease. It also shows the classifiers mistakes; it predicted 12 patients did not have heart disease though they actually did, and it predicted 5 patients did have heart disease though the true value is that they did not have heart disease. This is not a great visualization so let's plot the confusion matrix below. "
   ]
  },
  {
   "cell_type": "code",
   "execution_count": 21,
   "id": "a588a116-730a-48ac-93f7-ad175d17a909",
   "metadata": {},
   "outputs": [
    {
     "data": {
      "image/png": "[encoded data removed]",
      "text/plain": [
       "plot without title"
      ]
     },
     "metadata": {
      "image/png": {
       "height": 420,
       "width": 480
      }
     },
     "output_type": "display_data"
    }
   ],
   "source": [
    "T <- as.factor(c(\"FALSE\", \"FALSE\" , \"TRUE\", \"TRUE\"))\n",
    "P <- as.factor(c(\"TRUE\", \"FALSE\", \"TRUE\", \"FALSE\"))\n",
    "Results      <- c((8/76)*100,(33/76)*100 , (23/76)*100, (12/76)*100)\n",
    "matrix_data <- as_tibble(T, P, Results)\n",
    "ggplot(data =  matrix_data, mapping = aes(x = T, y = P)) +\n",
    "  geom_tile(aes(fill = Results), colour = \"white\") +\n",
    "  geom_text(aes(label = str_c(round(Results), \"%\")), size = 8) +\n",
    "  labs(x = \"Truth\", y = \"Predictor\", fill = \"Accuracy\") +\n",
    "  scale_fill_gradient(low = \"white\", high = \"red\") +\n",
    "  theme(text = element_text(size = 20)) +\n",
    "  ggtitle(\"Confusion Matrix Plot\") "
   ]
  },
  {
   "cell_type": "markdown",
   "id": "59699cb3-a92d-4b4c-9504-7db5f49059d0",
   "metadata": {},
   "source": [
    "_Figure 17: Plot of the confusion matrix (Note that the predictor scale is flipped compared to the confusion matrix of Figure 16)_ \n",
    "\n",
    "This better visulation tells us that 43% of correct predictions made had patients with no heart disease, and 30% of the correct predictions made had patients with heart disease. For the incorrect predictions, our classifier thought 11% of the patients had heart disease though they do not, and our classifier also believed that 16% of the patients did not have heart disease though they actually did have heart disease. This 16% false negative rate would result is alot more consequential compared to the 11% false positive rate due to our application. It would be alot more devastating to a patient if our predictor classified them as to have heart diesease though in reality they did not. \n",
    "\n",
    "Now, let's see the percentage value of our classifier's accuracy on the test dataset."
   ]
  },
  {
   "cell_type": "code",
   "execution_count": 22,
   "id": "f9cecbf7-fdc7-4020-88e3-fc1c735abb94",
   "metadata": {},
   "outputs": [
    {
     "data": {
      "text/html": [
       "<table class=\"dataframe\">\n",
       "<caption>A tibble: 1 × 2</caption>\n",
       "<thead>\n",
       "\t<tr><th scope=col>.metric</th><th scope=col>.estimate</th></tr>\n",
       "\t<tr><th scope=col>&lt;chr&gt;</th><th scope=col>&lt;dbl&gt;</th></tr>\n",
       "</thead>\n",
       "<tbody>\n",
       "\t<tr><td>accuracy</td><td>0.7368421</td></tr>\n",
       "</tbody>\n",
       "</table>\n"
      ],
      "text/latex": [
       "A tibble: 1 × 2\n",
       "\\begin{tabular}{ll}\n",
       " .metric & .estimate\\\\\n",
       " <chr> & <dbl>\\\\\n",
       "\\hline\n",
       "\t accuracy & 0.7368421\\\\\n",
       "\\end{tabular}\n"
      ],
      "text/markdown": [
       "\n",
       "A tibble: 1 × 2\n",
       "\n",
       "| .metric &lt;chr&gt; | .estimate &lt;dbl&gt; |\n",
       "|---|---|\n",
       "| accuracy | 0.7368421 |\n",
       "\n"
      ],
      "text/plain": [
       "  .metric  .estimate\n",
       "1 accuracy 0.7368421"
      ]
     },
     "metadata": {},
     "output_type": "display_data"
    }
   ],
   "source": [
    "heart_acc <- heart_final_predictions |> \n",
    "    metrics(truth = diag, estimate = .pred_class) |> \n",
    "    select(.metric, .estimate) |> \n",
    "    head(1)\n",
    "heart_acc\n"
   ]
  },
  {
   "cell_type": "markdown",
   "id": "668d926c-c062-4b52-8ffa-e82259219fcc",
   "metadata": {},
   "source": [
    "_Figure 18: Accuracy of model on test dataset_\n",
    "\n",
    "Look at that! By using Forward Selection Analysis to choose the best predictors and Cross-Validation tests to determine the best k-value, it turns out our classifier based on the testing set had a total accuracy of __0.74!__"
   ]
  },
  {
   "cell_type": "markdown",
   "id": "bf22e4bb-b9ed-4b00-9903-a59a8b230a9a",
   "metadata": {},
   "source": [
    "# Discussion"
   ]
  },
  {
   "cell_type": "markdown",
   "id": "dca96313-c9c3-49e3-8864-c5bb804232c6",
   "metadata": {},
   "source": [
    "We first performed preliminary data analysis to clean and wrangle our data. We added column names, selected columns for the variables we are interested in, cleaned up the data into a tidy data format, and split the data into a training set and testing set. The variables we chose to use for our preliminary-analysis were age, chest pain, resting blood pressure and cholesterol level. Before performing K-NN classification, we performed Forward Variable selection to find the best predictors. We found that the actual best predictors that gave us the highest accuracy are oldpeak (ST Depression Segment), cp (Chest Pain), exang (Exercise induced angina), age, and thalach (Maximum Heart Rate produced by patient). We then performed 10-fold cross validation on our training data to find the best $k$-value that gives us the highest accuracy. We found $k$ = 11 to give us the highest accuracy and used that value to create our model. To evaluate our model on the testing data, we found out the accuracy value and visualized the results using a confusion matrix.  \n",
    "\n",
    "We found our model to have an accuracy of 74%. This is about the same as the accuracy we expected our model to have based on the estimate accuracy provided by the Foward Selection model (_Figure 12_). Based on the amount of incorrect predictions, especially the very consequential 16% false negative rate, (_Figure 16 & Figure 17_) and our prediction accuracy (_Figure 18_), we believe our model is not adequete enough to be used in a real world setting because the room for error is too great and a false negative prediction can lead to expensive and detrimental consequences for a patient. Therefore, we believe we are unable to fullfill this paper's claim which is to take the Heart Disease dataset from the Cleveland database to create an adequate model to predict whether a patient has heart disease. Hospitals and health institutions should try and predict heart disease with an accuracy as close to 100% as possible. Regardless, this model does give a base knowledge on how to predict heart disease as well as granting an overall understanding on the various causes of heart disease. To improve our classifier, one improvement that could have been made is a bigger dataset, as our data set only included 303 observations. \n",
    "\n",
    "With heart disease being the second leading cause of death after cancer, it is essential that we know the factors that impact our heart’s health so we can prevent complications in the future. A better understanding of how different variables contribute to heart disease is necessary to understand how to prevent heart disease. For example, based on our preliminary analysis of chest pain (_Figure 8_), we can confidently support the claim that severe irregular chest pain is a good indicator of heart disease (Deeana, 2014). Unfortunately because our model's overall accuracy was only 74% (based on the test data) and the numerous number of mistakes our model made, it is hard to derive any useful information or relationships.\n",
    "\n",
    "This could lead to future questions such as how can we better prevent heart disease early in age? What factors result in heart disease for young people? What is the greatest cause for heart disease? Does this data change when looking at different countries? Lastly, what other factors affect heart disease that weren’t included in the dataset?\n"
   ]
  },
  {
   "cell_type": "markdown",
   "id": "cc9fdbda-ecb7-46ed-a34b-8da2f0351800",
   "metadata": {},
   "source": [
    "# References"
   ]
  },
  {
   "cell_type": "markdown",
   "id": "de1ec9fe-533f-4041-9290-0e41d33a3f93",
   "metadata": {},
   "source": [
    "Janosi, A., Steinbrunn, W., Pfisterer, M., &amp; Detrano , R. (2007). Heart Disease Data Set. Index of/ml/machine-learning-databases/heart-disease. Retrieved December 1, 2022, from https://archive.ics.uci.edu/ml/machine-learning-databases/heart-disease/ \n",
    "\n",
    "Campbell, T., &amp; Timbers, T. (2022, September 24). Data science. Chapter 6 Classification II: evaluation &amp; tuning. \n",
    "Retrieved     December 1, 2022, from https://datasciencebook.ca/classification2.html#predictor-variable-selection \n",
    "\n",
    "Vanderpump, M P et al. “The development of ischemic heart disease in relation to autoimmune thyroid disease in a 20-year follow-up study of an English community.” Thyroid : official journal of the American Thyroid Association vol. 6,3 (1996): 155-60. doi:10.1089/thy.1996.6.155\n",
    "\n",
    "Kelley, Deeanna. \"Heart Disease: Causes, Prevention, and Current Research,\" JCCC Honors Journal: Vol. 5: Iss. 2, Article 1, (2014).\n",
    "Available at: http://scholarspace.jccc.edu/honors_journal/vol5/iss2/1"
   ]
  }
 ],
 "metadata": {
  "kernelspec": {
   "display_name": "R",
   "language": "R",
   "name": "ir"
  },
  "language_info": {
   "codemirror_mode": "r",
   "file_extension": ".r",
   "mimetype": "text/x-r-source",
   "name": "R",
   "pygments_lexer": "r",
   "version": "4.1.3"
  }
 },
 "nbformat": 4,
 "nbformat_minor": 5
}
