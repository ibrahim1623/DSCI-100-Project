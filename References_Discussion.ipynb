{
 "cells": [
  {
   "cell_type": "markdown",
   "id": "f6a87de9-6eb9-4181-8c9e-5d9d459ece91",
   "metadata": {},
   "source": [
    "## References"
   ]
  },
  {
   "cell_type": "markdown",
   "id": "88ff06e2-4cf7-4d40-8a20-71b7b33cc054",
   "metadata": {},
   "source": [
    "Dua, D. and Graff, C. (2019). UCI Machine Learning Repository [http://archive.ics.uci.edu/ml]. Irvine, CA: University of California, School of Information and Computer Science.\n",
    "\n",
    "cdc.gov. (2019, December 9). Know Your Risk for Heart Disease. [https://www.cdc.gov/heartdisease/risk_factors.htm] Centers for Disease Control and Prevention. \n",
    "\n",
    "Shahab Khatibzadeh, Farshad Farzadfar, John Oliver, Majid Ezzati, Andrew Moran, Worldwide risk factors for heart failure: A systematic review and pooled analysis, International Journal of Cardiology, Volume 168, Issue 2, 2013, Pages 1186-1194, ISSN 0167-5273, https://doi.org/10.1016/j.ijcard.2012.11.065. (https://www.sciencedirect.com/science/article/pii/S0167527312015483)\n",
    "\n"
   ]
  },
  {
   "cell_type": "markdown",
   "id": "b69d6a7f-3feb-447e-9392-0ae5fe710ec4",
   "metadata": {},
   "source": [
    "## Discussion"
   ]
  },
  {
   "cell_type": "markdown",
   "id": "e687667c-f4fa-4319-9c9d-6a081069a64d",
   "metadata": {},
   "source": [
    "- summarize what you found\n",
    "- discuss whether this is what you expected to find?\n",
    "- discuss what impact could such findings have?\n",
    "- discuss what future questions could this lead to?"
   ]
  },
  {
   "cell_type": "markdown",
   "id": "2eac54d5-bafe-455e-b372-d7b3e47c96c9",
   "metadata": {},
   "source": [
    "Considering our variables, we expect to find those who are older, have high cholesterol levels, high blood pressure, and experience atypical or typical chest pain to have the highest chance of having heart disease. __still need to add results__\n",
    "\n",
    "\n",
    "With heart disease being the second leading cause of death after cancer, it is essential that we know the factors that impact our heart’s health so we can prevent complications in the future. Using what we find in our model, we can help identify who has heart disease and treat them faster. This model can also help statistically identify what the contributing causes are for health disease based on our variables and how they are related to each other. It can help educate people on how they can lower their chance of getting heart disease.\n",
    "\n",
    "\n",
    "This could lead to future questions such as how can we better prevent heart disease early in age? What factors result in heart disease for young people? Lastly, what is the greatest cause for heart disease?"
   ]
  },
  {
   "cell_type": "code",
   "execution_count": null,
   "id": "cbf6d775-2c34-4040-9aa4-d79aea78e366",
   "metadata": {},
   "outputs": [],
   "source": []
  }
 ],
 "metadata": {
  "kernelspec": {
   "display_name": "R",
   "language": "R",
   "name": "ir"
  },
  "language_info": {
   "codemirror_mode": "r",
   "file_extension": ".r",
   "mimetype": "text/x-r-source",
   "name": "R",
   "pygments_lexer": "r",
   "version": "4.1.3"
  }
 },
 "nbformat": 4,
 "nbformat_minor": 5
}
