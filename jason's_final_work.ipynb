{
 "cells": [
  {
   "cell_type": "markdown",
   "id": "1659493a-5813-4a32-884c-bb76dba8a0ed",
   "metadata": {},
   "source": [
    "# Age, Cholesterol, Blood Pressure, and Chest Pain in Determining Heart Disease"
   ]
  },
  {
   "cell_type": "markdown",
   "id": "734fff2c-700c-475c-a355-407bc8e3883c",
   "metadata": {},
   "source": [
    "Andy Hong, Celine Li, Jason Shi, Ibrahim Saeed"
   ]
  },
  {
   "cell_type": "markdown",
   "id": "8007143a-f7ed-4908-8726-45e9a6aa96bc",
   "metadata": {},
   "source": [
    "# Preliminary Data Analysis"
   ]
  },
  {
   "cell_type": "code",
   "execution_count": 1,
   "id": "860bbab2-ac56-4ca7-90f8-2735379a2e70",
   "metadata": {},
   "outputs": [
    {
     "name": "stderr",
     "output_type": "stream",
     "text": [
      "── \u001b[1mAttaching packages\u001b[22m ─────────────────────────────────────── tidyverse 1.3.1 ──\n",
      "\n",
      "\u001b[32m✔\u001b[39m \u001b[34mggplot2\u001b[39m 3.3.6     \u001b[32m✔\u001b[39m \u001b[34mpurrr  \u001b[39m 0.3.4\n",
      "\u001b[32m✔\u001b[39m \u001b[34mtibble \u001b[39m 3.1.7     \u001b[32m✔\u001b[39m \u001b[34mdplyr  \u001b[39m 1.0.9\n",
      "\u001b[32m✔\u001b[39m \u001b[34mtidyr  \u001b[39m 1.2.0     \u001b[32m✔\u001b[39m \u001b[34mstringr\u001b[39m 1.4.0\n",
      "\u001b[32m✔\u001b[39m \u001b[34mreadr  \u001b[39m 2.1.2     \u001b[32m✔\u001b[39m \u001b[34mforcats\u001b[39m 0.5.1\n",
      "\n",
      "── \u001b[1mConflicts\u001b[22m ────────────────────────────────────────── tidyverse_conflicts() ──\n",
      "\u001b[31m✖\u001b[39m \u001b[34mdplyr\u001b[39m::\u001b[32mfilter()\u001b[39m masks \u001b[34mstats\u001b[39m::filter()\n",
      "\u001b[31m✖\u001b[39m \u001b[34mdplyr\u001b[39m::\u001b[32mlag()\u001b[39m    masks \u001b[34mstats\u001b[39m::lag()\n",
      "\n",
      "── \u001b[1mAttaching packages\u001b[22m ────────────────────────────────────── tidymodels 1.0.0 ──\n",
      "\n",
      "\u001b[32m✔\u001b[39m \u001b[34mbroom       \u001b[39m 1.0.0     \u001b[32m✔\u001b[39m \u001b[34mrsample     \u001b[39m 1.0.0\n",
      "\u001b[32m✔\u001b[39m \u001b[34mdials       \u001b[39m 1.0.0     \u001b[32m✔\u001b[39m \u001b[34mtune        \u001b[39m 1.0.0\n",
      "\u001b[32m✔\u001b[39m \u001b[34minfer       \u001b[39m 1.0.2     \u001b[32m✔\u001b[39m \u001b[34mworkflows   \u001b[39m 1.0.0\n",
      "\u001b[32m✔\u001b[39m \u001b[34mmodeldata   \u001b[39m 1.0.0     \u001b[32m✔\u001b[39m \u001b[34mworkflowsets\u001b[39m 1.0.0\n",
      "\u001b[32m✔\u001b[39m \u001b[34mparsnip     \u001b[39m 1.0.0     \u001b[32m✔\u001b[39m \u001b[34myardstick   \u001b[39m 1.0.0\n",
      "\u001b[32m✔\u001b[39m \u001b[34mrecipes     \u001b[39m 1.0.1     \n",
      "\n",
      "── \u001b[1mConflicts\u001b[22m ───────────────────────────────────────── tidymodels_conflicts() ──\n",
      "\u001b[31m✖\u001b[39m \u001b[34mscales\u001b[39m::\u001b[32mdiscard()\u001b[39m masks \u001b[34mpurrr\u001b[39m::discard()\n",
      "\u001b[31m✖\u001b[39m \u001b[34mdplyr\u001b[39m::\u001b[32mfilter()\u001b[39m   masks \u001b[34mstats\u001b[39m::filter()\n",
      "\u001b[31m✖\u001b[39m \u001b[34mrecipes\u001b[39m::\u001b[32mfixed()\u001b[39m  masks \u001b[34mstringr\u001b[39m::fixed()\n",
      "\u001b[31m✖\u001b[39m \u001b[34mdplyr\u001b[39m::\u001b[32mlag()\u001b[39m      masks \u001b[34mstats\u001b[39m::lag()\n",
      "\u001b[31m✖\u001b[39m \u001b[34myardstick\u001b[39m::\u001b[32mspec()\u001b[39m masks \u001b[34mreadr\u001b[39m::spec()\n",
      "\u001b[31m✖\u001b[39m \u001b[34mrecipes\u001b[39m::\u001b[32mstep()\u001b[39m   masks \u001b[34mstats\u001b[39m::step()\n",
      "\u001b[34m•\u001b[39m Use suppressPackageStartupMessages() to eliminate package startup messages\n",
      "\n"
     ]
    }
   ],
   "source": [
    "# Here we load the packages necessary to run our functions\n",
    "library(tidyverse)\n",
    "library(repr)\n",
    "library(tidymodels)\n",
    "\n",
    "options(repr.matrix.max.rows = 6)"
   ]
  },
  {
   "cell_type": "markdown",
   "id": "2535d431-ba95-4b76-9ddf-b672d1577f6c",
   "metadata": {},
   "source": [
    "Preliminary Exploratory Data Analysis\n",
    "\n",
    "In the code below, we can prove that the dataset can be read from the web. We will be naming the dataset \"heart_data\". \n"
   ]
  },
  {
   "cell_type": "code",
   "execution_count": 2,
   "id": "8abd7357-e477-45ff-9aca-84479bf05330",
   "metadata": {},
   "outputs": [
    {
     "name": "stderr",
     "output_type": "stream",
     "text": [
      "\u001b[1mRows: \u001b[22m\u001b[34m303\u001b[39m \u001b[1mColumns: \u001b[22m\u001b[34m14\u001b[39m\n",
      "\u001b[36m──\u001b[39m \u001b[1mColumn specification\u001b[22m \u001b[36m────────────────────────────────────────────────────────\u001b[39m\n",
      "\u001b[1mDelimiter:\u001b[22m \",\"\n",
      "\u001b[31mchr\u001b[39m  (2): X12, X13\n",
      "\u001b[32mdbl\u001b[39m (12): X1, X2, X3, X4, X5, X6, X7, X8, X9, X10, X11, X14\n",
      "\n",
      "\u001b[36mℹ\u001b[39m Use `spec()` to retrieve the full column specification for this data.\n",
      "\u001b[36mℹ\u001b[39m Specify the column types or set `show_col_types = FALSE` to quiet this message.\n"
     ]
    }
   ],
   "source": [
    "heart_data <- read_csv(\"https://archive.ics.uci.edu/ml/machine-learning-databases/heart-disease/processed.cleveland.data\", \n",
    "                       col_names = FALSE)"
   ]
  },
  {
   "cell_type": "markdown",
   "id": "60bd69b2-afaf-4c76-ac08-2ef7fa4af9ca",
   "metadata": {},
   "source": [
    "We notice that there are no column names for the data set thus we will need to add column names based on what each column represents."
   ]
  },
  {
   "cell_type": "code",
   "execution_count": 3,
   "id": "95b93033-b3fd-4c8e-9134-3c4d7f6e5cac",
   "metadata": {},
   "outputs": [
    {
     "data": {
      "text/html": [
       "<table class=\"dataframe\">\n",
       "<caption>A spec_tbl_df: 303 × 14</caption>\n",
       "<thead>\n",
       "\t<tr><th scope=col>age</th><th scope=col>sex</th><th scope=col>cp</th><th scope=col>trestbps</th><th scope=col>chol</th><th scope=col>fbs</th><th scope=col>restecg</th><th scope=col>thalach</th><th scope=col>exang</th><th scope=col>oldpeak</th><th scope=col>slope</th><th scope=col>ca</th><th scope=col>thal</th><th scope=col>num</th></tr>\n",
       "\t<tr><th scope=col>&lt;dbl&gt;</th><th scope=col>&lt;dbl&gt;</th><th scope=col>&lt;dbl&gt;</th><th scope=col>&lt;dbl&gt;</th><th scope=col>&lt;dbl&gt;</th><th scope=col>&lt;dbl&gt;</th><th scope=col>&lt;dbl&gt;</th><th scope=col>&lt;dbl&gt;</th><th scope=col>&lt;dbl&gt;</th><th scope=col>&lt;dbl&gt;</th><th scope=col>&lt;dbl&gt;</th><th scope=col>&lt;chr&gt;</th><th scope=col>&lt;chr&gt;</th><th scope=col>&lt;dbl&gt;</th></tr>\n",
       "</thead>\n",
       "<tbody>\n",
       "\t<tr><td>63</td><td>1</td><td>1</td><td>145</td><td>233</td><td>1</td><td>2</td><td>150</td><td>0</td><td>2.3</td><td>3</td><td>0.0</td><td>6.0</td><td>0</td></tr>\n",
       "\t<tr><td>67</td><td>1</td><td>4</td><td>160</td><td>286</td><td>0</td><td>2</td><td>108</td><td>1</td><td>1.5</td><td>2</td><td>3.0</td><td>3.0</td><td>2</td></tr>\n",
       "\t<tr><td>67</td><td>1</td><td>4</td><td>120</td><td>229</td><td>0</td><td>2</td><td>129</td><td>1</td><td>2.6</td><td>2</td><td>2.0</td><td>7.0</td><td>1</td></tr>\n",
       "\t<tr><td>⋮</td><td>⋮</td><td>⋮</td><td>⋮</td><td>⋮</td><td>⋮</td><td>⋮</td><td>⋮</td><td>⋮</td><td>⋮</td><td>⋮</td><td>⋮</td><td>⋮</td><td>⋮</td></tr>\n",
       "\t<tr><td>57</td><td>1</td><td>4</td><td>130</td><td>131</td><td>0</td><td>0</td><td>115</td><td>1</td><td>1.2</td><td>2</td><td>1.0</td><td>7.0</td><td>3</td></tr>\n",
       "\t<tr><td>57</td><td>0</td><td>2</td><td>130</td><td>236</td><td>0</td><td>2</td><td>174</td><td>0</td><td>0.0</td><td>2</td><td>1.0</td><td>3.0</td><td>1</td></tr>\n",
       "\t<tr><td>38</td><td>1</td><td>3</td><td>138</td><td>175</td><td>0</td><td>0</td><td>173</td><td>0</td><td>0.0</td><td>1</td><td>?  </td><td>3.0</td><td>0</td></tr>\n",
       "</tbody>\n",
       "</table>\n"
      ],
      "text/latex": [
       "A spec\\_tbl\\_df: 303 × 14\n",
       "\\begin{tabular}{llllllllllllll}\n",
       " age & sex & cp & trestbps & chol & fbs & restecg & thalach & exang & oldpeak & slope & ca & thal & num\\\\\n",
       " <dbl> & <dbl> & <dbl> & <dbl> & <dbl> & <dbl> & <dbl> & <dbl> & <dbl> & <dbl> & <dbl> & <chr> & <chr> & <dbl>\\\\\n",
       "\\hline\n",
       "\t 63 & 1 & 1 & 145 & 233 & 1 & 2 & 150 & 0 & 2.3 & 3 & 0.0 & 6.0 & 0\\\\\n",
       "\t 67 & 1 & 4 & 160 & 286 & 0 & 2 & 108 & 1 & 1.5 & 2 & 3.0 & 3.0 & 2\\\\\n",
       "\t 67 & 1 & 4 & 120 & 229 & 0 & 2 & 129 & 1 & 2.6 & 2 & 2.0 & 7.0 & 1\\\\\n",
       "\t ⋮ & ⋮ & ⋮ & ⋮ & ⋮ & ⋮ & ⋮ & ⋮ & ⋮ & ⋮ & ⋮ & ⋮ & ⋮ & ⋮\\\\\n",
       "\t 57 & 1 & 4 & 130 & 131 & 0 & 0 & 115 & 1 & 1.2 & 2 & 1.0 & 7.0 & 3\\\\\n",
       "\t 57 & 0 & 2 & 130 & 236 & 0 & 2 & 174 & 0 & 0.0 & 2 & 1.0 & 3.0 & 1\\\\\n",
       "\t 38 & 1 & 3 & 138 & 175 & 0 & 0 & 173 & 0 & 0.0 & 1 & ?   & 3.0 & 0\\\\\n",
       "\\end{tabular}\n"
      ],
      "text/markdown": [
       "\n",
       "A spec_tbl_df: 303 × 14\n",
       "\n",
       "| age &lt;dbl&gt; | sex &lt;dbl&gt; | cp &lt;dbl&gt; | trestbps &lt;dbl&gt; | chol &lt;dbl&gt; | fbs &lt;dbl&gt; | restecg &lt;dbl&gt; | thalach &lt;dbl&gt; | exang &lt;dbl&gt; | oldpeak &lt;dbl&gt; | slope &lt;dbl&gt; | ca &lt;chr&gt; | thal &lt;chr&gt; | num &lt;dbl&gt; |\n",
       "|---|---|---|---|---|---|---|---|---|---|---|---|---|---|\n",
       "| 63 | 1 | 1 | 145 | 233 | 1 | 2 | 150 | 0 | 2.3 | 3 | 0.0 | 6.0 | 0 |\n",
       "| 67 | 1 | 4 | 160 | 286 | 0 | 2 | 108 | 1 | 1.5 | 2 | 3.0 | 3.0 | 2 |\n",
       "| 67 | 1 | 4 | 120 | 229 | 0 | 2 | 129 | 1 | 2.6 | 2 | 2.0 | 7.0 | 1 |\n",
       "| ⋮ | ⋮ | ⋮ | ⋮ | ⋮ | ⋮ | ⋮ | ⋮ | ⋮ | ⋮ | ⋮ | ⋮ | ⋮ | ⋮ |\n",
       "| 57 | 1 | 4 | 130 | 131 | 0 | 0 | 115 | 1 | 1.2 | 2 | 1.0 | 7.0 | 3 |\n",
       "| 57 | 0 | 2 | 130 | 236 | 0 | 2 | 174 | 0 | 0.0 | 2 | 1.0 | 3.0 | 1 |\n",
       "| 38 | 1 | 3 | 138 | 175 | 0 | 0 | 173 | 0 | 0.0 | 1 | ?   | 3.0 | 0 |\n",
       "\n"
      ],
      "text/plain": [
       "    age sex cp trestbps chol fbs restecg thalach exang oldpeak slope ca  thal\n",
       "1   63  1   1  145      233  1   2       150     0     2.3     3     0.0 6.0 \n",
       "2   67  1   4  160      286  0   2       108     1     1.5     2     3.0 3.0 \n",
       "3   67  1   4  120      229  0   2       129     1     2.6     2     2.0 7.0 \n",
       "⋮   ⋮   ⋮   ⋮  ⋮        ⋮    ⋮   ⋮       ⋮       ⋮     ⋮       ⋮     ⋮   ⋮   \n",
       "301 57  1   4  130      131  0   0       115     1     1.2     2     1.0 7.0 \n",
       "302 57  0   2  130      236  0   2       174     0     0.0     2     1.0 3.0 \n",
       "303 38  1   3  138      175  0   0       173     0     0.0     1     ?   3.0 \n",
       "    num\n",
       "1   0  \n",
       "2   2  \n",
       "3   1  \n",
       "⋮   ⋮  \n",
       "301 3  \n",
       "302 1  \n",
       "303 0  "
      ]
     },
     "metadata": {},
     "output_type": "display_data"
    }
   ],
   "source": [
    "names <- c(\"age\",\"sex\",\"cp\",\"trestbps\",\n",
    "           \"chol\",\"fbs\",\"restecg\",\"thalach\",\n",
    "           \"exang\",\"oldpeak\",\"slope\",\n",
    "           \"ca\",\"thal\",\"num\")\n",
    "\n",
    "colnames(heart_data) <- names\n",
    "heart_data"
   ]
  },
  {
   "cell_type": "markdown",
   "id": "bce5c23d-28e8-4ed6-be15-f7ab7e433c2c",
   "metadata": {},
   "source": [
    "Let's select for the columns we are interested in and tidy it up. Note that the \"num\" column tells us the prescence of heart disease within a patient, with a value of 0 meaning no heart disease present and a value of 1 meaning heart disease is present with greater values representing how significant the prescence is all the way up to the maximum value of 4. "
   ]
  },
  {
   "cell_type": "code",
   "execution_count": 4,
   "id": "35f6654a-31b4-4e1a-85ad-3a7e239d05ef",
   "metadata": {},
   "outputs": [
    {
     "data": {
      "text/html": [
       "<table class=\"dataframe\">\n",
       "<caption>A tibble: 5 × 5</caption>\n",
       "<thead>\n",
       "\t<tr><th scope=col>age</th><th scope=col>cp</th><th scope=col>trestbps</th><th scope=col>chol</th><th scope=col>num</th></tr>\n",
       "\t<tr><th scope=col>&lt;dbl&gt;</th><th scope=col>&lt;dbl&gt;</th><th scope=col>&lt;dbl&gt;</th><th scope=col>&lt;dbl&gt;</th><th scope=col>&lt;dbl&gt;</th></tr>\n",
       "</thead>\n",
       "<tbody>\n",
       "\t<tr><td>63</td><td>1</td><td>145</td><td>233</td><td>0</td></tr>\n",
       "\t<tr><td>67</td><td>4</td><td>160</td><td>286</td><td>2</td></tr>\n",
       "\t<tr><td>67</td><td>4</td><td>120</td><td>229</td><td>1</td></tr>\n",
       "\t<tr><td>37</td><td>3</td><td>130</td><td>250</td><td>0</td></tr>\n",
       "\t<tr><td>41</td><td>2</td><td>130</td><td>204</td><td>0</td></tr>\n",
       "</tbody>\n",
       "</table>\n"
      ],
      "text/latex": [
       "A tibble: 5 × 5\n",
       "\\begin{tabular}{lllll}\n",
       " age & cp & trestbps & chol & num\\\\\n",
       " <dbl> & <dbl> & <dbl> & <dbl> & <dbl>\\\\\n",
       "\\hline\n",
       "\t 63 & 1 & 145 & 233 & 0\\\\\n",
       "\t 67 & 4 & 160 & 286 & 2\\\\\n",
       "\t 67 & 4 & 120 & 229 & 1\\\\\n",
       "\t 37 & 3 & 130 & 250 & 0\\\\\n",
       "\t 41 & 2 & 130 & 204 & 0\\\\\n",
       "\\end{tabular}\n"
      ],
      "text/markdown": [
       "\n",
       "A tibble: 5 × 5\n",
       "\n",
       "| age &lt;dbl&gt; | cp &lt;dbl&gt; | trestbps &lt;dbl&gt; | chol &lt;dbl&gt; | num &lt;dbl&gt; |\n",
       "|---|---|---|---|---|\n",
       "| 63 | 1 | 145 | 233 | 0 |\n",
       "| 67 | 4 | 160 | 286 | 2 |\n",
       "| 67 | 4 | 120 | 229 | 1 |\n",
       "| 37 | 3 | 130 | 250 | 0 |\n",
       "| 41 | 2 | 130 | 204 | 0 |\n",
       "\n"
      ],
      "text/plain": [
       "  age cp trestbps chol num\n",
       "1 63  1  145      233  0  \n",
       "2 67  4  160      286  2  \n",
       "3 67  4  120      229  1  \n",
       "4 37  3  130      250  0  \n",
       "5 41  2  130      204  0  "
      ]
     },
     "metadata": {},
     "output_type": "display_data"
    }
   ],
   "source": [
    "heart_data_select <- select(heart_data, age, cp, trestbps, chol, num) \n",
    "slice(heart_data_select,1:5)\n"
   ]
  },
  {
   "cell_type": "markdown",
   "id": "37448f19-c022-4d79-b34b-4f0851b8c45a",
   "metadata": {},
   "source": [
    "Each row is one unique obsevation and each cell only contains one value. But we are only interested in whether a patient has heart diesease or not. Let's transform the \"num\" column so that values equal to 0 mean no heart diesease is present whereas any values higher means heart diesease is present. "
   ]
  },
  {
   "cell_type": "code",
   "execution_count": 20,
   "id": "ba1850d2-44c2-49dc-8583-2579b193f301",
   "metadata": {},
   "outputs": [
    {
     "data": {
      "text/html": [
       "<table class=\"dataframe\">\n",
       "<caption>A tibble: 303 × 11</caption>\n",
       "<thead>\n",
       "\t<tr><th scope=col>age</th><th scope=col>cp</th><th scope=col>trestbps</th><th scope=col>chol</th><th scope=col>fbs</th><th scope=col>restecg</th><th scope=col>thalach</th><th scope=col>exang</th><th scope=col>oldpeak</th><th scope=col>slope</th><th scope=col>diag</th></tr>\n",
       "\t<tr><th scope=col>&lt;dbl&gt;</th><th scope=col>&lt;dbl&gt;</th><th scope=col>&lt;dbl&gt;</th><th scope=col>&lt;dbl&gt;</th><th scope=col>&lt;dbl&gt;</th><th scope=col>&lt;dbl&gt;</th><th scope=col>&lt;dbl&gt;</th><th scope=col>&lt;dbl&gt;</th><th scope=col>&lt;dbl&gt;</th><th scope=col>&lt;dbl&gt;</th><th scope=col>&lt;fct&gt;</th></tr>\n",
       "</thead>\n",
       "<tbody>\n",
       "\t<tr><td>63</td><td>1</td><td>145</td><td>233</td><td>1</td><td>2</td><td>150</td><td>0</td><td>2.3</td><td>3</td><td>FALSE</td></tr>\n",
       "\t<tr><td>67</td><td>4</td><td>160</td><td>286</td><td>0</td><td>2</td><td>108</td><td>1</td><td>1.5</td><td>2</td><td>TRUE </td></tr>\n",
       "\t<tr><td>67</td><td>4</td><td>120</td><td>229</td><td>0</td><td>2</td><td>129</td><td>1</td><td>2.6</td><td>2</td><td>TRUE </td></tr>\n",
       "\t<tr><td>⋮</td><td>⋮</td><td>⋮</td><td>⋮</td><td>⋮</td><td>⋮</td><td>⋮</td><td>⋮</td><td>⋮</td><td>⋮</td><td>⋮</td></tr>\n",
       "\t<tr><td>57</td><td>4</td><td>130</td><td>131</td><td>0</td><td>0</td><td>115</td><td>1</td><td>1.2</td><td>2</td><td>TRUE </td></tr>\n",
       "\t<tr><td>57</td><td>2</td><td>130</td><td>236</td><td>0</td><td>2</td><td>174</td><td>0</td><td>0.0</td><td>2</td><td>TRUE </td></tr>\n",
       "\t<tr><td>38</td><td>3</td><td>138</td><td>175</td><td>0</td><td>0</td><td>173</td><td>0</td><td>0.0</td><td>1</td><td>FALSE</td></tr>\n",
       "</tbody>\n",
       "</table>\n"
      ],
      "text/latex": [
       "A tibble: 303 × 11\n",
       "\\begin{tabular}{lllllllllll}\n",
       " age & cp & trestbps & chol & fbs & restecg & thalach & exang & oldpeak & slope & diag\\\\\n",
       " <dbl> & <dbl> & <dbl> & <dbl> & <dbl> & <dbl> & <dbl> & <dbl> & <dbl> & <dbl> & <fct>\\\\\n",
       "\\hline\n",
       "\t 63 & 1 & 145 & 233 & 1 & 2 & 150 & 0 & 2.3 & 3 & FALSE\\\\\n",
       "\t 67 & 4 & 160 & 286 & 0 & 2 & 108 & 1 & 1.5 & 2 & TRUE \\\\\n",
       "\t 67 & 4 & 120 & 229 & 0 & 2 & 129 & 1 & 2.6 & 2 & TRUE \\\\\n",
       "\t ⋮ & ⋮ & ⋮ & ⋮ & ⋮ & ⋮ & ⋮ & ⋮ & ⋮ & ⋮ & ⋮\\\\\n",
       "\t 57 & 4 & 130 & 131 & 0 & 0 & 115 & 1 & 1.2 & 2 & TRUE \\\\\n",
       "\t 57 & 2 & 130 & 236 & 0 & 2 & 174 & 0 & 0.0 & 2 & TRUE \\\\\n",
       "\t 38 & 3 & 138 & 175 & 0 & 0 & 173 & 0 & 0.0 & 1 & FALSE\\\\\n",
       "\\end{tabular}\n"
      ],
      "text/markdown": [
       "\n",
       "A tibble: 303 × 11\n",
       "\n",
       "| age &lt;dbl&gt; | cp &lt;dbl&gt; | trestbps &lt;dbl&gt; | chol &lt;dbl&gt; | fbs &lt;dbl&gt; | restecg &lt;dbl&gt; | thalach &lt;dbl&gt; | exang &lt;dbl&gt; | oldpeak &lt;dbl&gt; | slope &lt;dbl&gt; | diag &lt;fct&gt; |\n",
       "|---|---|---|---|---|---|---|---|---|---|---|\n",
       "| 63 | 1 | 145 | 233 | 1 | 2 | 150 | 0 | 2.3 | 3 | FALSE |\n",
       "| 67 | 4 | 160 | 286 | 0 | 2 | 108 | 1 | 1.5 | 2 | TRUE  |\n",
       "| 67 | 4 | 120 | 229 | 0 | 2 | 129 | 1 | 2.6 | 2 | TRUE  |\n",
       "| ⋮ | ⋮ | ⋮ | ⋮ | ⋮ | ⋮ | ⋮ | ⋮ | ⋮ | ⋮ | ⋮ |\n",
       "| 57 | 4 | 130 | 131 | 0 | 0 | 115 | 1 | 1.2 | 2 | TRUE  |\n",
       "| 57 | 2 | 130 | 236 | 0 | 2 | 174 | 0 | 0.0 | 2 | TRUE  |\n",
       "| 38 | 3 | 138 | 175 | 0 | 0 | 173 | 0 | 0.0 | 1 | FALSE |\n",
       "\n"
      ],
      "text/plain": [
       "    age cp trestbps chol fbs restecg thalach exang oldpeak slope diag \n",
       "1   63  1  145      233  1   2       150     0     2.3     3     FALSE\n",
       "2   67  4  160      286  0   2       108     1     1.5     2     TRUE \n",
       "3   67  4  120      229  0   2       129     1     2.6     2     TRUE \n",
       "⋮   ⋮   ⋮  ⋮        ⋮    ⋮   ⋮       ⋮       ⋮     ⋮       ⋮     ⋮    \n",
       "301 57  4  130      131  0   0       115     1     1.2     2     TRUE \n",
       "302 57  2  130      236  0   2       174     0     0.0     2     TRUE \n",
       "303 38  3  138      175  0   0       173     0     0.0     1     FALSE"
      ]
     },
     "metadata": {},
     "output_type": "display_data"
    }
   ],
   "source": [
    "heart_clean <- heart_data_select |>\n",
    "               mutate(diag = factor(ifelse(is.na(num), NA,  (num > 0)))) |>\n",
    "               select(-num)\n",
    "\n",
    "heart_clean_predSel <- heart_data |>\n",
    "                       mutate(diag = factor(ifelse(is.na(num), NA,  (num > 0)))) |>\n",
    "                       select(-num,-sex,-thal,-ca)\n",
    "heart_clean_predSel\n",
    "\n"
   ]
  },
  {
   "cell_type": "markdown",
   "id": "14da1ed6-5c1a-4e64-8f13-5d3119cb8856",
   "metadata": {},
   "source": [
    "Now let's check to see if any missing values. To do this, we can inbed the is.na() function into the sum() function. "
   ]
  },
  {
   "cell_type": "code",
   "execution_count": 6,
   "id": "67966e5e-4a40-42ee-9856-f1337f9ce24f",
   "metadata": {},
   "outputs": [
    {
     "data": {
      "text/html": [
       "0"
      ],
      "text/latex": [
       "0"
      ],
      "text/markdown": [
       "0"
      ],
      "text/plain": [
       "[1] 0"
      ]
     },
     "metadata": {},
     "output_type": "display_data"
    }
   ],
   "source": [
    "sum(is.na(heart_data_select))"
   ]
  },
  {
   "cell_type": "markdown",
   "id": "c834cdb8-1e3c-4301-aa7e-39ec8b9d1efb",
   "metadata": {},
   "source": [
    "The value 0 tells us that there are no missing values in our data frame. "
   ]
  },
  {
   "cell_type": "markdown",
   "id": "b0295170-272b-40b7-8531-cc444fc8292a",
   "metadata": {},
   "source": [
    "Let's separate our training data from the testing data, set a seed, and summarize the training idea to get a good idea of what we are working with."
   ]
  },
  {
   "cell_type": "code",
   "execution_count": 7,
   "id": "1127ed86-2e13-4ef3-80b6-f1b904d01d1b",
   "metadata": {},
   "outputs": [
    {
     "data": {
      "text/html": [
       "<table class=\"dataframe\">\n",
       "<caption>A tibble: 303 × 5</caption>\n",
       "<thead>\n",
       "\t<tr><th scope=col>age</th><th scope=col>cp</th><th scope=col>trestbps</th><th scope=col>chol</th><th scope=col>diag</th></tr>\n",
       "\t<tr><th scope=col>&lt;dbl&gt;</th><th scope=col>&lt;dbl&gt;</th><th scope=col>&lt;dbl&gt;</th><th scope=col>&lt;dbl&gt;</th><th scope=col>&lt;fct&gt;</th></tr>\n",
       "</thead>\n",
       "<tbody>\n",
       "\t<tr><td>63</td><td>1</td><td>145</td><td>233</td><td>FALSE</td></tr>\n",
       "\t<tr><td>67</td><td>4</td><td>160</td><td>286</td><td>TRUE </td></tr>\n",
       "\t<tr><td>67</td><td>4</td><td>120</td><td>229</td><td>TRUE </td></tr>\n",
       "\t<tr><td>⋮</td><td>⋮</td><td>⋮</td><td>⋮</td><td>⋮</td></tr>\n",
       "\t<tr><td>57</td><td>4</td><td>130</td><td>131</td><td>TRUE </td></tr>\n",
       "\t<tr><td>57</td><td>2</td><td>130</td><td>236</td><td>TRUE </td></tr>\n",
       "\t<tr><td>38</td><td>3</td><td>138</td><td>175</td><td>FALSE</td></tr>\n",
       "</tbody>\n",
       "</table>\n"
      ],
      "text/latex": [
       "A tibble: 303 × 5\n",
       "\\begin{tabular}{lllll}\n",
       " age & cp & trestbps & chol & diag\\\\\n",
       " <dbl> & <dbl> & <dbl> & <dbl> & <fct>\\\\\n",
       "\\hline\n",
       "\t 63 & 1 & 145 & 233 & FALSE\\\\\n",
       "\t 67 & 4 & 160 & 286 & TRUE \\\\\n",
       "\t 67 & 4 & 120 & 229 & TRUE \\\\\n",
       "\t ⋮ & ⋮ & ⋮ & ⋮ & ⋮\\\\\n",
       "\t 57 & 4 & 130 & 131 & TRUE \\\\\n",
       "\t 57 & 2 & 130 & 236 & TRUE \\\\\n",
       "\t 38 & 3 & 138 & 175 & FALSE\\\\\n",
       "\\end{tabular}\n"
      ],
      "text/markdown": [
       "\n",
       "A tibble: 303 × 5\n",
       "\n",
       "| age &lt;dbl&gt; | cp &lt;dbl&gt; | trestbps &lt;dbl&gt; | chol &lt;dbl&gt; | diag &lt;fct&gt; |\n",
       "|---|---|---|---|---|\n",
       "| 63 | 1 | 145 | 233 | FALSE |\n",
       "| 67 | 4 | 160 | 286 | TRUE  |\n",
       "| 67 | 4 | 120 | 229 | TRUE  |\n",
       "| ⋮ | ⋮ | ⋮ | ⋮ | ⋮ |\n",
       "| 57 | 4 | 130 | 131 | TRUE  |\n",
       "| 57 | 2 | 130 | 236 | TRUE  |\n",
       "| 38 | 3 | 138 | 175 | FALSE |\n",
       "\n"
      ],
      "text/plain": [
       "    age cp trestbps chol diag \n",
       "1   63  1  145      233  FALSE\n",
       "2   67  4  160      286  TRUE \n",
       "3   67  4  120      229  TRUE \n",
       "⋮   ⋮   ⋮  ⋮        ⋮    ⋮    \n",
       "301 57  4  130      131  TRUE \n",
       "302 57  2  130      236  TRUE \n",
       "303 38  3  138      175  FALSE"
      ]
     },
     "metadata": {},
     "output_type": "display_data"
    }
   ],
   "source": [
    "#splitting dataframe into training, testing datasets\n",
    "set.seed(1)\n",
    "\n",
    "heart_split <- initial_split(heart_clean, prop = 3/4, strata = diag)\n",
    "heart_training <- training(heart_split)\n",
    "heart_testing <- testing(heart_split)\n",
    "\n",
    "heart_clean"
   ]
  },
  {
   "cell_type": "markdown",
   "id": "4e013d82-26a6-4d5f-9165-ac485c03f4fe",
   "metadata": {},
   "source": [
    "We then can summarize this data into a table below."
   ]
  },
  {
   "cell_type": "code",
   "execution_count": 8,
   "id": "df47484d-4dfe-4151-90a3-876d79752782",
   "metadata": {},
   "outputs": [
    {
     "data": {
      "text/html": [
       "<table class=\"dataframe\">\n",
       "<caption>A tibble: 2 × 14</caption>\n",
       "<thead>\n",
       "\t<tr><th scope=col>diag</th><th scope=col>min_age</th><th scope=col>max_age</th><th scope=col>mean_age</th><th scope=col>min_cp</th><th scope=col>max_cp</th><th scope=col>mean_cp</th><th scope=col>min_chol</th><th scope=col>max_chol</th><th scope=col>mean_chol</th><th scope=col>min_trestbps</th><th scope=col>max_trestbps</th><th scope=col>mean_trestbps</th><th scope=col>no_patients</th></tr>\n",
       "\t<tr><th scope=col>&lt;fct&gt;</th><th scope=col>&lt;dbl&gt;</th><th scope=col>&lt;dbl&gt;</th><th scope=col>&lt;dbl&gt;</th><th scope=col>&lt;dbl&gt;</th><th scope=col>&lt;dbl&gt;</th><th scope=col>&lt;dbl&gt;</th><th scope=col>&lt;dbl&gt;</th><th scope=col>&lt;dbl&gt;</th><th scope=col>&lt;dbl&gt;</th><th scope=col>&lt;dbl&gt;</th><th scope=col>&lt;dbl&gt;</th><th scope=col>&lt;dbl&gt;</th><th scope=col>&lt;int&gt;</th></tr>\n",
       "</thead>\n",
       "<tbody>\n",
       "\t<tr><td>FALSE</td><td>29</td><td>76</td><td>52.96748</td><td>1</td><td>4</td><td>2.788618</td><td>157</td><td>417</td><td>243.9106</td><td> 94</td><td>180</td><td>130.4553</td><td>123</td></tr>\n",
       "\t<tr><td>TRUE </td><td>35</td><td>77</td><td>57.23077</td><td>1</td><td>4</td><td>3.596154</td><td>131</td><td>407</td><td>250.5673</td><td>100</td><td>180</td><td>135.5096</td><td>104</td></tr>\n",
       "</tbody>\n",
       "</table>\n"
      ],
      "text/latex": [
       "A tibble: 2 × 14\n",
       "\\begin{tabular}{llllllllllllll}\n",
       " diag & min\\_age & max\\_age & mean\\_age & min\\_cp & max\\_cp & mean\\_cp & min\\_chol & max\\_chol & mean\\_chol & min\\_trestbps & max\\_trestbps & mean\\_trestbps & no\\_patients\\\\\n",
       " <fct> & <dbl> & <dbl> & <dbl> & <dbl> & <dbl> & <dbl> & <dbl> & <dbl> & <dbl> & <dbl> & <dbl> & <dbl> & <int>\\\\\n",
       "\\hline\n",
       "\t FALSE & 29 & 76 & 52.96748 & 1 & 4 & 2.788618 & 157 & 417 & 243.9106 &  94 & 180 & 130.4553 & 123\\\\\n",
       "\t TRUE  & 35 & 77 & 57.23077 & 1 & 4 & 3.596154 & 131 & 407 & 250.5673 & 100 & 180 & 135.5096 & 104\\\\\n",
       "\\end{tabular}\n"
      ],
      "text/markdown": [
       "\n",
       "A tibble: 2 × 14\n",
       "\n",
       "| diag &lt;fct&gt; | min_age &lt;dbl&gt; | max_age &lt;dbl&gt; | mean_age &lt;dbl&gt; | min_cp &lt;dbl&gt; | max_cp &lt;dbl&gt; | mean_cp &lt;dbl&gt; | min_chol &lt;dbl&gt; | max_chol &lt;dbl&gt; | mean_chol &lt;dbl&gt; | min_trestbps &lt;dbl&gt; | max_trestbps &lt;dbl&gt; | mean_trestbps &lt;dbl&gt; | no_patients &lt;int&gt; |\n",
       "|---|---|---|---|---|---|---|---|---|---|---|---|---|---|\n",
       "| FALSE | 29 | 76 | 52.96748 | 1 | 4 | 2.788618 | 157 | 417 | 243.9106 |  94 | 180 | 130.4553 | 123 |\n",
       "| TRUE  | 35 | 77 | 57.23077 | 1 | 4 | 3.596154 | 131 | 407 | 250.5673 | 100 | 180 | 135.5096 | 104 |\n",
       "\n"
      ],
      "text/plain": [
       "  diag  min_age max_age mean_age min_cp max_cp mean_cp  min_chol max_chol\n",
       "1 FALSE 29      76      52.96748 1      4      2.788618 157      417     \n",
       "2 TRUE  35      77      57.23077 1      4      3.596154 131      407     \n",
       "  mean_chol min_trestbps max_trestbps mean_trestbps no_patients\n",
       "1 243.9106   94          180          130.4553      123        \n",
       "2 250.5673  100          180          135.5096      104        "
      ]
     },
     "metadata": {},
     "output_type": "display_data"
    }
   ],
   "source": [
    "#summarizing training data into a table and getting mean, min, max\n",
    "heart_summarized <- heart_training %>%\n",
    "group_by(diag) %>%\n",
    "summarize(min_age = min(age), max_age = max(age), mean_age = mean(age),\n",
    "          min_cp  = min(cp), max_cp = max(cp), mean_cp = mean(cp),\n",
    "          min_chol = min(chol), max_chol = max(chol), mean_chol = mean(chol),\n",
    "          min_trestbps = min(trestbps), max_trestbps = max(trestbps), \n",
    "                             mean_trestbps = mean(trestbps), no_patients = n())\n",
    "heart_summarized\n",
    "          \n",
    "          \n"
   ]
  },
  {
   "cell_type": "markdown",
   "id": "8d6f7a02-f156-4cd0-9c31-05ba04d88107",
   "metadata": {},
   "source": [
    "We see that there are no anomalies and the number of observations with respect to the diagnosis value (whether or not the patent has heart diesease) is fair. \"no_patients\" tells us the number of rows. "
   ]
  },
  {
   "cell_type": "code",
   "execution_count": 9,
   "id": "c4093178-7471-496a-80dc-e45f508ccebc",
   "metadata": {},
   "outputs": [],
   "source": [
    "# #Plotting this data to find correlation of diagnosis\n",
    "# options(repr.plot.width = 8, repr.plot.height = 7)\n",
    "\n",
    "# # RColorBrewer features for color blindness \n",
    "# library(RColorBrewer)\n",
    "\n",
    "\n",
    "# graph <- ggplot(heart_training, aes(x = age, fill = diag, color = diag)) +\n",
    "#                  geom_histogram() +\n",
    "#                  labs(x = \"Age (years)\", y = \"Number of patients\", color = \"Diagnosis\", fill = \"Diagnosis\", title = \"Distribution of Age\") +\n",
    "#                  theme(text = element_text(size = 15)) +\n",
    "#                  scale_fill_brewer(palette = \"Dark2\") \n",
    "\n",
    "# graph2 <- ggplot(heart_training, aes(x = cp, color = diag, fill = diag)) +\n",
    "#                  geom_histogram(bins = 15) +\n",
    "#                  labs(x = \"Chest Pain\", y = \"Number of patients\", color = \"Diagnosis\", fill = \"Diagnosis\", title = \"Distribution of Chest Pains\") +\n",
    "#                  theme(text = element_text(size = 15))+\n",
    "#                  scale_fill_brewer(palette = \"Dark2\") \n",
    "\n",
    "# graph3 <- ggplot(heart_training, aes(x = trestbps, color = diag, fill = diag)) +\n",
    "#                  geom_histogram() +\n",
    "#                  labs(x = \"Age (years)\", y = \"Number of patients\",\n",
    "#                       color = \"Diagnosis\", fill = \"Diagnosis\", title = \"Distribution of Resting Blood Pressure\") +\n",
    "#                  theme(text = element_text(size = 15))+\n",
    "#                  scale_fill_brewer(palette = \"Dark2\") \n",
    "\n",
    "# graph4 <- ggplot(heart_training, aes(x = chol,  color = diag, fill = diag)) +\n",
    "#                  geom_histogram() +\n",
    "#                  labs(x = \"Cholesterol (mg/dl))\", y = \"Number of patients\", \n",
    "#                       color = \"Diagnosis\", fill = \"Diagnosis\", title = \"Distribution of Cholesterol levels\") +\n",
    "#                  theme(text = element_text(size = 15))+\n",
    "#                  scale_fill_brewer(palette = \"Dark2\") \n",
    "\n",
    "# graph\n",
    "# graph2\n",
    "# graph3\n",
    "# graph4"
   ]
  },
  {
   "cell_type": "markdown",
   "id": "1fa78eaf-3d02-45b3-a07c-4cc73ad1ed02",
   "metadata": {},
   "source": [
    "-notes to self for this final project\n",
    "\n",
    "-use a func to align the histograms side by side; there was a func to do this but i forgot but go check \n",
    "-use the foward output algorithm to find the num of best predictor variables in ch.6.8 within the textbook\n",
    "-also they open on tues so can also go tuesday start 3:30 to questions\n"
   ]
  },
  {
   "cell_type": "markdown",
   "id": "eceab9e5-35ab-4c34-8aa3-07ff5db9bbb2",
   "metadata": {},
   "source": [
    "## Predictor Variable Selection Analysis "
   ]
  },
  {
   "cell_type": "markdown",
   "id": "d7ccac3d-b73e-41ce-aff6-dca970542853",
   "metadata": {},
   "source": [
    "To figure out the best predictor variables to use for our classifier, we will be using the Foward Selection method. \n",
    "First, let's select for the predictors we are working with and get the column names of our predictor variables. "
   ]
  },
  {
   "cell_type": "code",
   "execution_count": 21,
   "id": "52379de6-8fbf-4e46-a5b0-ebb1ddb7a212",
   "metadata": {},
   "outputs": [
    {
     "data": {
      "text/html": [
       "<table class=\"dataframe\">\n",
       "<caption>A tibble: 303 × 11</caption>\n",
       "<thead>\n",
       "\t<tr><th scope=col>diag</th><th scope=col>age</th><th scope=col>cp</th><th scope=col>trestbps</th><th scope=col>chol</th><th scope=col>fbs</th><th scope=col>restecg</th><th scope=col>thalach</th><th scope=col>exang</th><th scope=col>oldpeak</th><th scope=col>slope</th></tr>\n",
       "\t<tr><th scope=col>&lt;fct&gt;</th><th scope=col>&lt;dbl&gt;</th><th scope=col>&lt;dbl&gt;</th><th scope=col>&lt;dbl&gt;</th><th scope=col>&lt;dbl&gt;</th><th scope=col>&lt;dbl&gt;</th><th scope=col>&lt;dbl&gt;</th><th scope=col>&lt;dbl&gt;</th><th scope=col>&lt;dbl&gt;</th><th scope=col>&lt;dbl&gt;</th><th scope=col>&lt;dbl&gt;</th></tr>\n",
       "</thead>\n",
       "<tbody>\n",
       "\t<tr><td>FALSE</td><td>63</td><td>1</td><td>145</td><td>233</td><td>1</td><td>2</td><td>150</td><td>0</td><td>2.3</td><td>3</td></tr>\n",
       "\t<tr><td>TRUE </td><td>67</td><td>4</td><td>160</td><td>286</td><td>0</td><td>2</td><td>108</td><td>1</td><td>1.5</td><td>2</td></tr>\n",
       "\t<tr><td>TRUE </td><td>67</td><td>4</td><td>120</td><td>229</td><td>0</td><td>2</td><td>129</td><td>1</td><td>2.6</td><td>2</td></tr>\n",
       "\t<tr><td>⋮</td><td>⋮</td><td>⋮</td><td>⋮</td><td>⋮</td><td>⋮</td><td>⋮</td><td>⋮</td><td>⋮</td><td>⋮</td><td>⋮</td></tr>\n",
       "\t<tr><td>TRUE </td><td>57</td><td>4</td><td>130</td><td>131</td><td>0</td><td>0</td><td>115</td><td>1</td><td>1.2</td><td>2</td></tr>\n",
       "\t<tr><td>TRUE </td><td>57</td><td>2</td><td>130</td><td>236</td><td>0</td><td>2</td><td>174</td><td>0</td><td>0.0</td><td>2</td></tr>\n",
       "\t<tr><td>FALSE</td><td>38</td><td>3</td><td>138</td><td>175</td><td>0</td><td>0</td><td>173</td><td>0</td><td>0.0</td><td>1</td></tr>\n",
       "</tbody>\n",
       "</table>\n"
      ],
      "text/latex": [
       "A tibble: 303 × 11\n",
       "\\begin{tabular}{lllllllllll}\n",
       " diag & age & cp & trestbps & chol & fbs & restecg & thalach & exang & oldpeak & slope\\\\\n",
       " <fct> & <dbl> & <dbl> & <dbl> & <dbl> & <dbl> & <dbl> & <dbl> & <dbl> & <dbl> & <dbl>\\\\\n",
       "\\hline\n",
       "\t FALSE & 63 & 1 & 145 & 233 & 1 & 2 & 150 & 0 & 2.3 & 3\\\\\n",
       "\t TRUE  & 67 & 4 & 160 & 286 & 0 & 2 & 108 & 1 & 1.5 & 2\\\\\n",
       "\t TRUE  & 67 & 4 & 120 & 229 & 0 & 2 & 129 & 1 & 2.6 & 2\\\\\n",
       "\t ⋮ & ⋮ & ⋮ & ⋮ & ⋮ & ⋮ & ⋮ & ⋮ & ⋮ & ⋮ & ⋮\\\\\n",
       "\t TRUE  & 57 & 4 & 130 & 131 & 0 & 0 & 115 & 1 & 1.2 & 2\\\\\n",
       "\t TRUE  & 57 & 2 & 130 & 236 & 0 & 2 & 174 & 0 & 0.0 & 2\\\\\n",
       "\t FALSE & 38 & 3 & 138 & 175 & 0 & 0 & 173 & 0 & 0.0 & 1\\\\\n",
       "\\end{tabular}\n"
      ],
      "text/markdown": [
       "\n",
       "A tibble: 303 × 11\n",
       "\n",
       "| diag &lt;fct&gt; | age &lt;dbl&gt; | cp &lt;dbl&gt; | trestbps &lt;dbl&gt; | chol &lt;dbl&gt; | fbs &lt;dbl&gt; | restecg &lt;dbl&gt; | thalach &lt;dbl&gt; | exang &lt;dbl&gt; | oldpeak &lt;dbl&gt; | slope &lt;dbl&gt; |\n",
       "|---|---|---|---|---|---|---|---|---|---|---|\n",
       "| FALSE | 63 | 1 | 145 | 233 | 1 | 2 | 150 | 0 | 2.3 | 3 |\n",
       "| TRUE  | 67 | 4 | 160 | 286 | 0 | 2 | 108 | 1 | 1.5 | 2 |\n",
       "| TRUE  | 67 | 4 | 120 | 229 | 0 | 2 | 129 | 1 | 2.6 | 2 |\n",
       "| ⋮ | ⋮ | ⋮ | ⋮ | ⋮ | ⋮ | ⋮ | ⋮ | ⋮ | ⋮ | ⋮ |\n",
       "| TRUE  | 57 | 4 | 130 | 131 | 0 | 0 | 115 | 1 | 1.2 | 2 |\n",
       "| TRUE  | 57 | 2 | 130 | 236 | 0 | 2 | 174 | 0 | 0.0 | 2 |\n",
       "| FALSE | 38 | 3 | 138 | 175 | 0 | 0 | 173 | 0 | 0.0 | 1 |\n",
       "\n"
      ],
      "text/plain": [
       "    diag  age cp trestbps chol fbs restecg thalach exang oldpeak slope\n",
       "1   FALSE 63  1  145      233  1   2       150     0     2.3     3    \n",
       "2   TRUE  67  4  160      286  0   2       108     1     1.5     2    \n",
       "3   TRUE  67  4  120      229  0   2       129     1     2.6     2    \n",
       "⋮   ⋮     ⋮   ⋮  ⋮        ⋮    ⋮   ⋮       ⋮       ⋮     ⋮       ⋮    \n",
       "301 TRUE  57  4  130      131  0   0       115     1     1.2     2    \n",
       "302 TRUE  57  2  130      236  0   2       174     0     0.0     2    \n",
       "303 FALSE 38  3  138      175  0   0       173     0     0.0     1    "
      ]
     },
     "metadata": {},
     "output_type": "display_data"
    }
   ],
   "source": [
    "heart_sub <- heart_clean_predSel |>\n",
    "             select(diag, \n",
    "                    c(\"age\",\"cp\",\"trestbps\",\n",
    "           \"chol\",\"fbs\",\"restecg\",\"thalach\",\n",
    "           \"exang\",\"oldpeak\",\"slope\",\n",
    "           \"diag\") )\n",
    "pred_names <- colnames(heart_sub |> select(-diag))\n",
    "heart_sub"
   ]
  },
  {
   "cell_type": "markdown",
   "id": "80185aee-13c8-4ae2-bce2-e5f7965f1e01",
   "metadata": {},
   "source": [
    "Now let's create a model formula using the paste function. We will be naming this heart_formula."
   ]
  },
  {
   "cell_type": "code",
   "execution_count": 22,
   "id": "fd069595-2140-4493-a8fe-74e0e4abb1a8",
   "metadata": {},
   "outputs": [
    {
     "data": {
      "text/html": [
       "'diag ~ age+cp+trestbps+chol+fbs+restecg+thalach+exang+oldpeak+slope'"
      ],
      "text/latex": [
       "'diag \\textasciitilde{} age+cp+trestbps+chol+fbs+restecg+thalach+exang+oldpeak+slope'"
      ],
      "text/markdown": [
       "'diag ~ age+cp+trestbps+chol+fbs+restecg+thalach+exang+oldpeak+slope'"
      ],
      "text/plain": [
       "[1] \"diag ~ age+cp+trestbps+chol+fbs+restecg+thalach+exang+oldpeak+slope\""
      ]
     },
     "metadata": {},
     "output_type": "display_data"
    }
   ],
   "source": [
    "heart_formula <- paste(\"diag\", \"~\", paste(pred_names, collapse = \"+\"))\n",
    "heart_formula"
   ]
  },
  {
   "cell_type": "markdown",
   "id": "a56e98a2-229b-4f2c-8f9d-57cabbd4ad29",
   "metadata": {},
   "source": [
    "Lastly, we will create the code to find the best predictors for our purposes. \n",
    "(Note: Scaffolding of code provided from datasciencebook.ca and this will be properly cited under references)"
   ]
  },
  {
   "cell_type": "code",
   "execution_count": 23,
   "id": "bc48f072-9956-4e78-b2d5-b7b0bcb9276e",
   "metadata": {},
   "outputs": [
    {
     "data": {
      "text/html": [
       "<table class=\"dataframe\">\n",
       "<caption>A tibble: 10 × 3</caption>\n",
       "<thead>\n",
       "\t<tr><th scope=col>size</th><th scope=col>model_string</th><th scope=col>accuracy</th></tr>\n",
       "\t<tr><th scope=col>&lt;int&gt;</th><th scope=col>&lt;chr&gt;</th><th scope=col>&lt;dbl&gt;</th></tr>\n",
       "</thead>\n",
       "<tbody>\n",
       "\t<tr><td>1</td><td>diag ~ cp             </td><td>0.7585440</td></tr>\n",
       "\t<tr><td>2</td><td>diag ~ cp+trestbps    </td><td>0.7619339</td></tr>\n",
       "\t<tr><td>3</td><td>diag ~ cp+trestbps+fbs</td><td>0.7586552</td></tr>\n",
       "\t<tr><td>⋮</td><td>⋮</td><td>⋮</td></tr>\n",
       "\t<tr><td> 8</td><td>diag ~ cp+trestbps+fbs+oldpeak+exang+restecg+thalach+age           </td><td>0.7887191</td></tr>\n",
       "\t<tr><td> 9</td><td>diag ~ cp+trestbps+fbs+oldpeak+exang+restecg+thalach+age+chol      </td><td>0.7884968</td></tr>\n",
       "\t<tr><td>10</td><td>diag ~ cp+trestbps+fbs+oldpeak+exang+restecg+thalach+age+chol+slope</td><td>0.7819394</td></tr>\n",
       "</tbody>\n",
       "</table>\n"
      ],
      "text/latex": [
       "A tibble: 10 × 3\n",
       "\\begin{tabular}{lll}\n",
       " size & model\\_string & accuracy\\\\\n",
       " <int> & <chr> & <dbl>\\\\\n",
       "\\hline\n",
       "\t 1 & diag \\textasciitilde{} cp              & 0.7585440\\\\\n",
       "\t 2 & diag \\textasciitilde{} cp+trestbps     & 0.7619339\\\\\n",
       "\t 3 & diag \\textasciitilde{} cp+trestbps+fbs & 0.7586552\\\\\n",
       "\t ⋮ & ⋮ & ⋮\\\\\n",
       "\t  8 & diag \\textasciitilde{} cp+trestbps+fbs+oldpeak+exang+restecg+thalach+age            & 0.7887191\\\\\n",
       "\t  9 & diag \\textasciitilde{} cp+trestbps+fbs+oldpeak+exang+restecg+thalach+age+chol       & 0.7884968\\\\\n",
       "\t 10 & diag \\textasciitilde{} cp+trestbps+fbs+oldpeak+exang+restecg+thalach+age+chol+slope & 0.7819394\\\\\n",
       "\\end{tabular}\n"
      ],
      "text/markdown": [
       "\n",
       "A tibble: 10 × 3\n",
       "\n",
       "| size &lt;int&gt; | model_string &lt;chr&gt; | accuracy &lt;dbl&gt; |\n",
       "|---|---|---|\n",
       "| 1 | diag ~ cp              | 0.7585440 |\n",
       "| 2 | diag ~ cp+trestbps     | 0.7619339 |\n",
       "| 3 | diag ~ cp+trestbps+fbs | 0.7586552 |\n",
       "| ⋮ | ⋮ | ⋮ |\n",
       "|  8 | diag ~ cp+trestbps+fbs+oldpeak+exang+restecg+thalach+age            | 0.7887191 |\n",
       "|  9 | diag ~ cp+trestbps+fbs+oldpeak+exang+restecg+thalach+age+chol       | 0.7884968 |\n",
       "| 10 | diag ~ cp+trestbps+fbs+oldpeak+exang+restecg+thalach+age+chol+slope | 0.7819394 |\n",
       "\n"
      ],
      "text/plain": [
       "   size model_string                                                       \n",
       "1  1    diag ~ cp                                                          \n",
       "2  2    diag ~ cp+trestbps                                                 \n",
       "3  3    diag ~ cp+trestbps+fbs                                             \n",
       "⋮  ⋮    ⋮                                                                  \n",
       "8   8   diag ~ cp+trestbps+fbs+oldpeak+exang+restecg+thalach+age           \n",
       "9   9   diag ~ cp+trestbps+fbs+oldpeak+exang+restecg+thalach+age+chol      \n",
       "10 10   diag ~ cp+trestbps+fbs+oldpeak+exang+restecg+thalach+age+chol+slope\n",
       "   accuracy \n",
       "1  0.7585440\n",
       "2  0.7619339\n",
       "3  0.7586552\n",
       "⋮  ⋮        \n",
       "8  0.7887191\n",
       "9  0.7884968\n",
       "10 0.7819394"
      ]
     },
     "metadata": {},
     "output_type": "display_data"
    }
   ],
   "source": [
    "# Empty tibble to store our results\n",
    "accuracies <- tibble(size = integer(), \n",
    "                     model_string = character(), \n",
    "                     accuracy = numeric())\n",
    "\n",
    "# Here, we create the model specification\n",
    "knn_spec <- nearest_neighbor(weight_func = \"rectangular\", \n",
    "                             neighbors = tune()) |>\n",
    "     set_engine(\"kknn\") |>\n",
    "     set_mode(\"classification\")\n",
    "\n",
    "# Here, we use a 5-fold cross validation for the sake of time and computational power \n",
    "heart_vfold <- vfold_cv(heart_sub, v = 5, strata = diag)\n",
    "\n",
    "# Stores number of total predictors\n",
    "n_total <- length(pred_names)\n",
    "\n",
    "# Stores the selected predictors\n",
    "selected <- c()\n",
    "\n",
    "# for every size from 1 to the total number of predictors\n",
    "for (i in 1:n_total) {\n",
    "# for every predictor still not added yet\n",
    "    accs <- list()\n",
    "    models <- list()\n",
    "    for (j in 1:length(pred_names)) {\n",
    "        # create a model string for this combination of predictors\n",
    "        preds_new <- c(selected, pred_names[[j]])\n",
    "        model_string <- paste(\"diag\", \"~\", paste(preds_new, collapse=\"+\"))\n",
    "\n",
    "        # create a recipe from the model string\n",
    "        heart_recipe <- recipe(as.formula(model_string), \n",
    "                                data = heart_sub) |>\n",
    "                          step_scale(all_predictors()) |>\n",
    "                          step_center(all_predictors())\n",
    "\n",
    "        # tune the KNN classifier with these predictors, \n",
    "        # and collect the accuracy for the best K\n",
    "        acc <- workflow() |>\n",
    "          add_recipe(heart_recipe) |>\n",
    "          add_model(knn_spec) |>\n",
    "          tune_grid(resamples = heart_vfold, grid = 10) |>\n",
    "          collect_metrics() |>\n",
    "          filter(.metric == \"accuracy\") |>\n",
    "          summarize(mx = max(mean))\n",
    "        acc <- acc$mx |> unlist()\n",
    "\n",
    "        # add this result to the dataframe\n",
    "        accs[[j]] <- acc\n",
    "        models[[j]] <- model_string\n",
    "    }\n",
    "    jstar <- which.max(unlist(accs))\n",
    "    accuracies <- accuracies |> \n",
    "      add_row(size = i, \n",
    "              model_string = models[[jstar]], \n",
    "              accuracy = accs[[jstar]])\n",
    "    selected <- c(selected, pred_names[[jstar]])\n",
    "    pred_names <- pred_names[-jstar]\n",
    "}\n",
    "accuracies\n"
   ]
  },
  {
   "cell_type": "markdown",
   "id": "2e8822cf-2009-47bf-b078-6adca7af823a",
   "metadata": {},
   "source": [
    "Let's plot the number of predictors against the estimated accuracy to see which group of predictors let us obtain the highest accuracy."
   ]
  },
  {
   "cell_type": "code",
   "execution_count": 34,
   "id": "a733ebe8-6265-4721-ba00-95c95c4b91e8",
   "metadata": {},
   "outputs": [
    {
     "data": {
      "image/png": "[encoded data removed]",
      "text/plain": [
       "plot without title"
      ]
     },
     "metadata": {
      "image/png": {
       "height": 420,
       "width": 420
      }
     },
     "output_type": "display_data"
    }
   ],
   "source": [
    "best_pred_plot <- accuracies |>\n",
    "                  ggplot( aes(x = size, y = accuracy)) +\n",
    "                  geom_point() +\n",
    "                  geom_line() +\n",
    "                  labs(x = \"Number of Predictors\", y = \"Estimated Accuracy\") +\n",
    "                  theme(text = element_text(size = 16)) +\n",
    "                  scale_x_continuous(breaks = seq(0, 10, by = 1))\n",
    "best_pred_plot"
   ]
  },
  {
   "cell_type": "markdown",
   "id": "d852b2da-11ad-4887-b7c4-6a3e3b32087a",
   "metadata": {},
   "source": [
    "From this plot, we see that when we use these *\"8\"* predictors: (Type all the predicors here), we obtain the highest accuracy and thus for our classification problem these are the predictor variables that we shall use when building our model. \n",
    "\n",
    "\n",
    "\n",
    "(Note: Above I used all the variables except sex, ca, and thal; result took incredibly long to compute though; originally I used age,cp,trestbps, and chol and on highest obtained a 76% accuracy; here is a screenshot link to see my results originally: https://prnt.sc/zeWsy5Jv6TaY ; latter result took much shorter to run but still around ~1-2min)\n",
    "\n"
   ]
  },
  {
   "cell_type": "code",
   "execution_count": null,
   "id": "8001cc62-e8ea-4251-a791-368f3e0474d0",
   "metadata": {},
   "outputs": [],
   "source": []
  }
 ],
 "metadata": {
  "kernelspec": {
   "display_name": "R",
   "language": "R",
   "name": "ir"
  },
  "language_info": {
   "codemirror_mode": "r",
   "file_extension": ".r",
   "mimetype": "text/x-r-source",
   "name": "R",
   "pygments_lexer": "r",
   "version": "4.1.3"
  }
 },
 "nbformat": 4,
 "nbformat_minor": 5
}
