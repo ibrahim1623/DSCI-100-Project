{
 "cells": [
  {
   "cell_type": "markdown",
   "id": "1659493a-5813-4a32-884c-bb76dba8a0ed",
   "metadata": {},
   "source": [
    "# Age, Cholesterol, Blood Pressure, and Chest Pain in Determining Heart Disease"
   ]
  },
  {
   "cell_type": "markdown",
   "id": "734fff2c-700c-475c-a355-407bc8e3883c",
   "metadata": {},
   "source": [
    "Andy Hong, Celine Li, Jason Shi, Ibrahim Saeed"
   ]
  },
  {
   "cell_type": "markdown",
   "id": "2440814d-6905-4afe-b2da-1d06dd4100f8",
   "metadata": {},
   "source": [
    "For our data analysis, we will only analyze the predictor variables age, chestpain, resting blood pressure and cholestrol level. This is because based on our background knowledge around heart disease, (and for the sake of time and computational power when we use forward selection to determine the best predictors) we believe these variables are most relevant when it comes to determining whether a patient has heart diesease.   "
   ]
  },
  {
   "cell_type": "markdown",
   "id": "8007143a-f7ed-4908-8726-45e9a6aa96bc",
   "metadata": {},
   "source": [
    "# Preliminary Data Analysis"
   ]
  },
  {
   "cell_type": "code",
   "execution_count": null,
   "id": "860bbab2-ac56-4ca7-90f8-2735379a2e70",
   "metadata": {},
   "outputs": [
    {
     "name": "stderr",
     "output_type": "stream",
     "text": [
      "── \u001b[1mAttaching packages\u001b[22m ─────────────────────────────────────── tidyverse 1.3.1 ──\n",
      "\n",
      "\u001b[32m✔\u001b[39m \u001b[34mggplot2\u001b[39m 3.3.6     \u001b[32m✔\u001b[39m \u001b[34mpurrr  \u001b[39m 0.3.4\n",
      "\u001b[32m✔\u001b[39m \u001b[34mtibble \u001b[39m 3.1.7     \u001b[32m✔\u001b[39m \u001b[34mdplyr  \u001b[39m 1.0.9\n",
      "\u001b[32m✔\u001b[39m \u001b[34mtidyr  \u001b[39m 1.2.0     \u001b[32m✔\u001b[39m \u001b[34mstringr\u001b[39m 1.4.0\n",
      "\u001b[32m✔\u001b[39m \u001b[34mreadr  \u001b[39m 2.1.2     \u001b[32m✔\u001b[39m \u001b[34mforcats\u001b[39m 0.5.1\n",
      "\n",
      "── \u001b[1mConflicts\u001b[22m ────────────────────────────────────────── tidyverse_conflicts() ──\n",
      "\u001b[31m✖\u001b[39m \u001b[34mdplyr\u001b[39m::\u001b[32mfilter()\u001b[39m masks \u001b[34mstats\u001b[39m::filter()\n",
      "\u001b[31m✖\u001b[39m \u001b[34mdplyr\u001b[39m::\u001b[32mlag()\u001b[39m    masks \u001b[34mstats\u001b[39m::lag()\n",
      "\n"
     ]
    }
   ],
   "source": [
    "# Here we load the packages necessary to run our functions\n",
    "library(tidyverse)\n",
    "library(repr)\n",
    "library(tidymodels)\n",
    "library(cowplot)\n",
    "\n",
    "options(repr.matrix.max.rows = 6)"
   ]
  },
  {
   "cell_type": "markdown",
   "id": "2535d431-ba95-4b76-9ddf-b672d1577f6c",
   "metadata": {},
   "source": [
    "Preliminary Exploratory Data Analysis\n",
    "\n",
    "In the code below, we can prove that the dataset can be read from the web. We will be naming the dataset \"heart_data\". \n"
   ]
  },
  {
   "cell_type": "code",
   "execution_count": null,
   "id": "8abd7357-e477-45ff-9aca-84479bf05330",
   "metadata": {},
   "outputs": [],
   "source": [
    "heart_data <- read_csv(\"https://archive.ics.uci.edu/ml/machine-learning-databases/heart-disease/processed.cleveland.data\", \n",
    "                       col_names = FALSE)\n",
    "heart_data"
   ]
  },
  {
   "cell_type": "markdown",
   "id": "60bd69b2-afaf-4c76-ac08-2ef7fa4af9ca",
   "metadata": {},
   "source": [
    "We notice that there are no column names for the data set thus we will need to add column names based on what each column represents."
   ]
  },
  {
   "cell_type": "code",
   "execution_count": null,
   "id": "95b93033-b3fd-4c8e-9134-3c4d7f6e5cac",
   "metadata": {},
   "outputs": [],
   "source": [
    "names <- c(\"age\",\"sex\",\"cp\",\"trestbps\",\n",
    "           \"chol\",\"fbs\",\"restecg\",\"thalach\",\n",
    "           \"exang\",\"oldpeak\",\"slope\",\n",
    "           \"ca\",\"thal\",\"num\")\n",
    "\n",
    "colnames(heart_data) <- names\n",
    "heart_data"
   ]
  },
  {
   "cell_type": "markdown",
   "id": "bce5c23d-28e8-4ed6-be15-f7ab7e433c2c",
   "metadata": {},
   "source": [
    "Let's select for the columns we are interested in and tidy it up. Note that the \"num\" column tells us the prescence of heart disease within a patient, with a value of 0 meaning no heart disease present and a value of 1 meaning heart disease is present with greater values representing how significant the prescence is all the way up to the maximum value of 4. "
   ]
  },
  {
   "cell_type": "code",
   "execution_count": null,
   "id": "35f6654a-31b4-4e1a-85ad-3a7e239d05ef",
   "metadata": {},
   "outputs": [],
   "source": [
    "heart_data_select <- select(heart_data, age, cp, trestbps, chol, num) \n",
    "slice(heart_data_select,1:5)\n"
   ]
  },
  {
   "cell_type": "markdown",
   "id": "37448f19-c022-4d79-b34b-4f0851b8c45a",
   "metadata": {},
   "source": [
    "Each row is one unique obsevation and each cell only contains one value. But we are only interested in whether a patient has heart diesease or not. Let's transform the \"num\" column and make a new column called \"diag\" of type factor  (abbreviation for diagnosis) so that values equal to 0 translate to \"FALSE\" which means no heart disease is present whereas any values higher than 0 gets the value \"TRUE\" which means heart diesease is present. "
   ]
  },
  {
   "cell_type": "code",
   "execution_count": null,
   "id": "ba1850d2-44c2-49dc-8583-2579b193f301",
   "metadata": {},
   "outputs": [],
   "source": [
    "heart_clean <- heart_data_select |>\n",
    "               mutate(diag = factor(ifelse(is.na(num), NA,  (num > 0)))) |>\n",
    "               select(-num)\n",
    "\n",
    "heart_clean\n",
    "\n",
    "heart_clean_predSel <- heart_data |>\n",
    "                       mutate(diag = factor(ifelse(is.na(num), NA,  (num > 0)))) |>\n",
    "                       select(-num,-sex,-thal,-ca)\n",
    "heart_clean_predSel\n",
    "\n"
   ]
  },
  {
   "cell_type": "markdown",
   "id": "14da1ed6-5c1a-4e64-8f13-5d3119cb8856",
   "metadata": {},
   "source": [
    "Now let's check to see if any missing values. To do this, we can inbed the is.na() function into the sum() function. "
   ]
  },
  {
   "cell_type": "code",
   "execution_count": null,
   "id": "67966e5e-4a40-42ee-9856-f1337f9ce24f",
   "metadata": {},
   "outputs": [],
   "source": [
    "sum(is.na(heart_data_select))"
   ]
  },
  {
   "cell_type": "markdown",
   "id": "c834cdb8-1e3c-4301-aa7e-39ec8b9d1efb",
   "metadata": {},
   "source": [
    "The value 0 tells us that there are no missing values in our data frame. "
   ]
  },
  {
   "cell_type": "markdown",
   "id": "b0295170-272b-40b7-8531-cc444fc8292a",
   "metadata": {},
   "source": [
    "Let's separate our training data from the testing data, set a seed, and summarize the training idea to get a good idea of what we are working with."
   ]
  },
  {
   "cell_type": "code",
   "execution_count": null,
   "id": "1127ed86-2e13-4ef3-80b6-f1b904d01d1b",
   "metadata": {},
   "outputs": [],
   "source": [
    "#splitting dataframe into training, testing datasets\n",
    "set.seed(1)\n",
    "\n",
    "heart_split <- initial_split(heart_clean, prop = 3/4, strata = diag)\n",
    "heart_training <- training(heart_split)\n",
    "heart_testing <- testing(heart_split)\n",
    "\n",
    "heart_clean"
   ]
  },
  {
   "cell_type": "markdown",
   "id": "4e013d82-26a6-4d5f-9165-ac485c03f4fe",
   "metadata": {},
   "source": [
    "We then can summarize this data into a table below."
   ]
  },
  {
   "cell_type": "code",
   "execution_count": null,
   "id": "df47484d-4dfe-4151-90a3-876d79752782",
   "metadata": {},
   "outputs": [],
   "source": [
    "#summarizing training data into a table and getting mean, min, max\n",
    "heart_summarized <- heart_training %>%\n",
    "group_by(diag) %>%\n",
    "summarize(min_age = min(age), max_age = max(age), mean_age = mean(age),\n",
    "          min_cp  = min(cp), max_cp = max(cp), mean_cp = mean(cp),\n",
    "          min_chol = min(chol), max_chol = max(chol), mean_chol = mean(chol),\n",
    "          min_trestbps = min(trestbps), max_trestbps = max(trestbps), \n",
    "                             mean_trestbps = mean(trestbps), no_patients = n())\n",
    "heart_summarized\n",
    "          \n",
    "          \n"
   ]
  },
  {
   "cell_type": "markdown",
   "id": "8d6f7a02-f156-4cd0-9c31-05ba04d88107",
   "metadata": {},
   "source": [
    "We see that there are no anomalies and the number of observations with respect to the diagnosis value (whether or not the patent has heart diesease) is fair. \"no_patients\" tells us the number of rows. "
   ]
  },
  {
   "cell_type": "code",
   "execution_count": null,
   "id": "c4093178-7471-496a-80dc-e45f508ccebc",
   "metadata": {},
   "outputs": [],
   "source": [
    "# #Plotting this data to find correlation of diagnosis\n",
    "# options(repr.plot.width = 8, repr.plot.height = 7)\n",
    "\n",
    "# # RColorBrewer features for color blindness \n",
    "# library(RColorBrewer)\n",
    "\n",
    "\n",
    "# graph <- ggplot(heart_training, aes(x = age, fill = diag, color = diag)) +\n",
    "#                  geom_histogram() +\n",
    "#                  labs(x = \"Age (years)\", y = \"Number of patients\", color = \"Diagnosis\", fill = \"Diagnosis\", title = \"Distribution of Age\") +\n",
    "#                  theme(text = element_text(size = 15)) +\n",
    "#                  scale_fill_brewer(palette = \"Dark2\") \n",
    "\n",
    "# graph2 <- ggplot(heart_training, aes(x = cp, color = diag, fill = diag)) +\n",
    "#                  geom_histogram(bins = 15) +\n",
    "#                  labs(x = \"Chest Pain\", y = \"Number of patients\", color = \"Diagnosis\", fill = \"Diagnosis\", title = \"Distribution of Chest Pains\") +\n",
    "#                  theme(text = element_text(size = 15))+\n",
    "#                  scale_fill_brewer(palette = \"Dark2\") \n",
    "\n",
    "# graph3 <- ggplot(heart_training, aes(x = trestbps, color = diag, fill = diag)) +\n",
    "#                  geom_histogram() +\n",
    "#                  labs(x = \"Age (years)\", y = \"Number of patients\",\n",
    "#                       color = \"Diagnosis\", fill = \"Diagnosis\", title = \"Distribution of Resting Blood Pressure\") +\n",
    "#                  theme(text = element_text(size = 15))+\n",
    "#                  scale_fill_brewer(palette = \"Dark2\") \n",
    "\n",
    "# graph4 <- ggplot(heart_training, aes(x = chol,  color = diag, fill = diag)) +\n",
    "#                  geom_histogram() +\n",
    "#                  labs(x = \"Cholesterol (mg/dl))\", y = \"Number of patients\", \n",
    "#                       color = \"Diagnosis\", fill = \"Diagnosis\", title = \"Distribution of Cholesterol levels\") +\n",
    "#                  theme(text = element_text(size = 15))+\n",
    "#                  scale_fill_brewer(palette = \"Dark2\") \n",
    "\n",
    "# graph\n",
    "# graph2\n",
    "# graph3\n",
    "# graph4\n",
    "\n",
    "# plot_grid(priciest_plot, avocado_plot, n = 1, \n",
    "#           labels = c(\"BuffaloRochester Avocado prices Average vs Total Volume (2018)\",\n",
    "#                      \"Houston Avocado prices Average vs Total Volume (2018)\"))"
   ]
  },
  {
   "cell_type": "markdown",
   "id": "1fa78eaf-3d02-45b3-a07c-4cc73ad1ed02",
   "metadata": {},
   "source": [
    "-notes to self for this final project\n",
    "\n",
    "-use a func to align the histograms side by side; there was a func to do this but i forgot but go check \n",
    "-use the foward output algorithm to find the num of best predictor variables in ch.6.8 within the textbook\n",
    "-also they open on tues so can also go tuesday start 3:30 to questions\n"
   ]
  },
  {
   "cell_type": "markdown",
   "id": "eceab9e5-35ab-4c34-8aa3-07ff5db9bbb2",
   "metadata": {},
   "source": [
    "## Predictor Variable Selection Analysis "
   ]
  },
  {
   "cell_type": "markdown",
   "id": "d7ccac3d-b73e-41ce-aff6-dca970542853",
   "metadata": {},
   "source": [
    "To figure out the best predictor variables to use for our classifier, we will be using the Foward Selection method. \n",
    "First, let's select for the predictors we are working with and get the column names of our predictor variables. "
   ]
  },
  {
   "cell_type": "code",
   "execution_count": null,
   "id": "52379de6-8fbf-4e46-a5b0-ebb1ddb7a212",
   "metadata": {},
   "outputs": [],
   "source": [
    "heart_sub <- heart_clean_predSel |>\n",
    "             select(diag, \n",
    "                    c(\"age\",\"cp\",\"trestbps\",\n",
    "           \"chol\",\"fbs\",\"restecg\",\"thalach\",\n",
    "           \"exang\",\"oldpeak\",\"slope\",\n",
    "           \"diag\") )\n",
    "pred_names <- colnames(heart_sub |> select(-diag))\n",
    "heart_sub"
   ]
  },
  {
   "cell_type": "markdown",
   "id": "80185aee-13c8-4ae2-bce2-e5f7965f1e01",
   "metadata": {},
   "source": [
    "Now let's create a model formula using the paste function. We will be naming this heart_formula."
   ]
  },
  {
   "cell_type": "code",
   "execution_count": null,
   "id": "fd069595-2140-4493-a8fe-74e0e4abb1a8",
   "metadata": {},
   "outputs": [],
   "source": [
    "heart_formula <- paste(\"diag\", \"~\", paste(pred_names, collapse = \"+\"))\n",
    "heart_formula"
   ]
  },
  {
   "cell_type": "markdown",
   "id": "a56e98a2-229b-4f2c-8f9d-57cabbd4ad29",
   "metadata": {},
   "source": [
    "Lastly, we will create the code to find the best predictors for our purposes. \n",
    "\n",
    "(Note: Scaffolding of code below provided from datasciencebook.ca under chapter 6.8. This is cited properly in APA format under references)"
   ]
  },
  {
   "cell_type": "code",
   "execution_count": null,
   "id": "bc48f072-9956-4e78-b2d5-b7b0bcb9276e",
   "metadata": {},
   "outputs": [],
   "source": [
    "set.seed(1) \n",
    "# Empty tibble to store our results\n",
    "accuracies <- tibble(size = integer(), \n",
    "                     model_string = character(), \n",
    "                     accuracy = numeric())\n",
    "\n",
    "# Here, we create the model specification\n",
    "knn_spec <- nearest_neighbor(weight_func = \"rectangular\", \n",
    "                             neighbors = tune()) |>\n",
    "     set_engine(\"kknn\") |>\n",
    "     set_mode(\"classification\")\n",
    "\n",
    "# Here, we use a 5-fold cross validation for the sake of time and computational power \n",
    "heart_vfold <- vfold_cv(heart_sub, v = 5, strata = diag)\n",
    "\n",
    "# Stores number of total predictors\n",
    "n_total <- length(pred_names)\n",
    "\n",
    "# Stores the selected predictors\n",
    "selected <- c()\n",
    "\n",
    "# Iterates from 1 to the total number of predictors\n",
    "# Outside part of nested for loop \n",
    "for (i in 1:n_total) {\n",
    "    \n",
    "    \n",
    "# Iterates until every predictor is added \n",
    "#Inside part of nested for loop \n",
    "    \n",
    "    accs <- list()\n",
    "    models <- list()\n",
    "    for (j in 1:length(pred_names)) {\n",
    "        \n",
    "        # create a model string for this combination of predictors\n",
    "        preds_new <- c(selected, pred_names[[j]])\n",
    "        model_string <- paste(\"diag\", \"~\", paste(preds_new, collapse=\"+\"))\n",
    "\n",
    "        # create a recipe from the model string\n",
    "        heart_recipe <- recipe(as.formula(model_string), \n",
    "                                data = heart_sub) |>\n",
    "                          step_scale(all_predictors()) |>\n",
    "                          step_center(all_predictors())\n",
    "\n",
    "        # Here, we tune the classifier with our chose predictors\n",
    "        # and collect the estimated accuracy\n",
    "        \n",
    "        acc <- workflow() |>\n",
    "          add_recipe(heart_recipe) |>\n",
    "          add_model(knn_spec) |>\n",
    "          tune_grid(resamples = heart_vfold, grid = 10) |>\n",
    "          collect_metrics() |>\n",
    "          filter(.metric == \"accuracy\") |>\n",
    "          summarize(mx = max(mean))\n",
    "        acc <- acc$mx |> unlist()\n",
    "\n",
    "        \n",
    "        # Adding the results to the dataframe\n",
    "        \n",
    "        accs[[j]] <- acc\n",
    "        models[[j]] <- model_string\n",
    "    }\n",
    "    jstar <- which.max(unlist(accs))\n",
    "    accuracies <- accuracies |> \n",
    "      add_row(size = i, \n",
    "              model_string = models[[jstar]], \n",
    "              accuracy = accs[[jstar]])\n",
    "    selected <- c(selected, pred_names[[jstar]])\n",
    "    pred_names <- pred_names[-jstar]\n",
    "}\n",
    "accuracies\n"
   ]
  },
  {
   "cell_type": "markdown",
   "id": "2e8822cf-2009-47bf-b078-6adca7af823a",
   "metadata": {},
   "source": [
    "Let's plot the number of predictors against the estimated accuracy to see which group of predictors let us obtain the highest accuracy."
   ]
  },
  {
   "cell_type": "code",
   "execution_count": null,
   "id": "a733ebe8-6265-4721-ba00-95c95c4b91e8",
   "metadata": {},
   "outputs": [],
   "source": [
    "best_pred_plot <- accuracies |>\n",
    "                  ggplot( aes(x = size, y = accuracy)) +\n",
    "                  geom_point() +\n",
    "                  geom_line() +\n",
    "                  labs(x = \"Number of Predictors\", y = \"Estimated Accuracy\") +\n",
    "                  theme(text = element_text(size = 16)) +\n",
    "                  scale_x_continuous(breaks = seq(0, 10, by = 1))\n",
    "best_pred_plot"
   ]
  },
  {
   "cell_type": "markdown",
   "id": "d852b2da-11ad-4887-b7c4-6a3e3b32087a",
   "metadata": {},
   "source": [
    "From this plot, we see that when we use these *\"8\"* predictors: (Type all the predicors here), we obtain the highest accuracy and thus for our classification problem these are the predictor variables that we shall use when building our model. \n",
    "\n",
    "\n",
    "\n",
    "(Note: Above I used all the variables except sex, ca, and thal; result took incredibly long to compute though; originally I used age,cp,trestbps, and chol and on highest obtained a 76% accuracy; here is a screenshot link to see my results originally: https://prnt.sc/zeWsy5Jv6TaY ; latter result took much shorter to run but still around ~1-2min)\n",
    "\n"
   ]
  },
  {
   "cell_type": "code",
   "execution_count": null,
   "id": "24553d07-29cc-4aac-87a6-dd1a291ddf25",
   "metadata": {},
   "outputs": [],
   "source": []
  }
 ],
 "metadata": {
  "kernelspec": {
   "display_name": "R",
   "language": "R",
   "name": "ir"
  },
  "language_info": {
   "codemirror_mode": "r",
   "file_extension": ".r",
   "mimetype": "text/x-r-source",
   "name": "R",
   "pygments_lexer": "r",
   "version": "4.1.3"
  }
 },
 "nbformat": 4,
 "nbformat_minor": 5
}
