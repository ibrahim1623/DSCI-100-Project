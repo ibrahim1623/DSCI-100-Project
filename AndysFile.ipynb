{
 "cells": [
  {
   "cell_type": "markdown",
   "id": "402f3912-3951-430c-8d67-42eb52c340a6",
   "metadata": {},
   "source": [
    "Title:\n",
    "Classifying a Solar Signal"
   ]
  },
  {
   "cell_type": "code",
   "execution_count": 25,
   "id": "3a1e28ab-64c2-49b8-94a5-ed0dc5a53208",
   "metadata": {},
   "outputs": [],
   "source": [
    "# Load Packages\n",
    "library(tidyverse)\n",
    "library(testthat)\n",
    "library(digest)\n",
    "library(repr)\n",
    "library(tidymodels)"
   ]
  },
  {
   "cell_type": "code",
   "execution_count": 91,
   "id": "9c068faa-21b9-420d-8fb3-58e3ee68a854",
   "metadata": {},
   "outputs": [
    {
     "name": "stderr",
     "output_type": "stream",
     "text": [
      "\u001b[1mRows: \u001b[22m\u001b[34m207\u001b[39m \u001b[1mColumns: \u001b[22m\u001b[34m61\u001b[39m\n",
      "\u001b[36m──\u001b[39m \u001b[1mColumn specification\u001b[22m \u001b[36m────────────────────────────────────────────────────────\u001b[39m\n",
      "\u001b[1mDelimiter:\u001b[22m \",\"\n",
      "\u001b[31mchr\u001b[39m  (1): R\n",
      "\u001b[32mdbl\u001b[39m (60): 0.0200, 0.0371, 0.0428, 0.0207, 0.0954, 0.0986, 0.1539, 0.1601, 0....\n",
      "\n",
      "\u001b[36mℹ\u001b[39m Use `spec()` to retrieve the full column specification for this data.\n",
      "\u001b[36mℹ\u001b[39m Specify the column types or set `show_col_types = FALSE` to quiet this message.\n"
     ]
    },
    {
     "ename": "ERROR",
     "evalue": "Error in describe(s): description must be a string of at least length 1\n",
     "output_type": "error",
     "traceback": [
      "Error in describe(s): description must be a string of at least length 1\nTraceback:\n",
      "1. describe(s)",
      "2. stop(\"description must be a string of at least length 1\")"
     ]
    }
   ],
   "source": [
    "s <- read_csv(\"http://archive.ics.uci.edu/ml/machine-learning-databases/undocumented/connectionist-bench/sonar/sonar.all-data\")\n"
   ]
  },
  {
   "cell_type": "code",
   "execution_count": null,
   "id": "e19bede4-a10a-4e52-b923-67c2b1706909",
   "metadata": {},
   "outputs": [],
   "source": []
  },
  {
   "cell_type": "code",
   "execution_count": null,
   "id": "f61a9874-2438-4af8-a24c-b76ebe347290",
   "metadata": {},
   "outputs": [],
   "source": []
  }
 ],
 "metadata": {
  "kernelspec": {
   "display_name": "R",
   "language": "R",
   "name": "ir"
  },
  "language_info": {
   "codemirror_mode": "r",
   "file_extension": ".r",
   "mimetype": "text/x-r-source",
   "name": "R",
   "pygments_lexer": "r",
   "version": "4.1.3"
  }
 },
 "nbformat": 4,
 "nbformat_minor": 5
}
